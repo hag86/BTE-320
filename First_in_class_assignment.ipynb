{
  "nbformat": 4,
  "nbformat_minor": 0,
  "metadata": {
    "colab": {
      "provenance": [],
      "toc_visible": true,
      "authorship_tag": "ABX9TyN9QoPSptgzGz9phCC7v7zp",
      "include_colab_link": true
    },
    "kernelspec": {
      "name": "python3",
      "display_name": "Python 3"
    },
    "language_info": {
      "name": "python"
    }
  },
  "cells": [
    {
      "cell_type": "markdown",
      "metadata": {
        "id": "view-in-github",
        "colab_type": "text"
      },
      "source": [
        "<a href=\"https://colab.research.google.com/github/hag86/BTE-320/blob/main/First_in_class_assignment.ipynb\" target=\"_parent\"><img src=\"https://colab.research.google.com/assets/colab-badge.svg\" alt=\"Open In Colab\"/></a>"
      ]
    },
    {
      "cell_type": "code",
      "execution_count": null,
      "metadata": {
        "colab": {
          "base_uri": "https://localhost:8080/"
        },
        "id": "aQr1OaIykeZm",
        "outputId": "57ec8ecf-c993-41c9-d3f0-23dfc412f361"
      },
      "outputs": [
        {
          "output_type": "stream",
          "name": "stdout",
          "text": [
            "Hello\n"
          ]
        }
      ],
      "source": [
        "a==b\n",
        "a!=b\n",
        "\n",
        "a<b\n",
        "a<=b\n",
        "a>b\n",
        "a>=b\n"
      ]
    },
    {
      "cell_type": "code",
      "source": [
        "3+2"
      ],
      "metadata": {
        "colab": {
          "base_uri": "https://localhost:8080/"
        },
        "id": "B5pBmaOWlC-P",
        "outputId": "bf138988-bd57-483b-9cb5-bf2ac873a066"
      },
      "execution_count": null,
      "outputs": [
        {
          "output_type": "execute_result",
          "data": {
            "text/plain": [
              "5"
            ]
          },
          "metadata": {},
          "execution_count": 5
        }
      ]
    },
    {
      "cell_type": "code",
      "source": [
        "3.0+2.0"
      ],
      "metadata": {
        "colab": {
          "base_uri": "https://localhost:8080/"
        },
        "id": "V7WLQgu6lKBE",
        "outputId": "51e67145-7655-4aee-d000-6cb10d318fd6"
      },
      "execution_count": null,
      "outputs": [
        {
          "output_type": "execute_result",
          "data": {
            "text/plain": [
              "5.0"
            ]
          },
          "metadata": {},
          "execution_count": 4
        }
      ]
    },
    {
      "cell_type": "code",
      "source": [
        "3+2.0"
      ],
      "metadata": {
        "colab": {
          "base_uri": "https://localhost:8080/"
        },
        "id": "CNiXoLqAlg3O",
        "outputId": "f3930dfc-24df-435a-c12c-13ee38a0bee9"
      },
      "execution_count": null,
      "outputs": [
        {
          "output_type": "execute_result",
          "data": {
            "text/plain": [
              "5.0"
            ]
          },
          "metadata": {},
          "execution_count": 6
        }
      ]
    },
    {
      "cell_type": "code",
      "source": [
        "3-1"
      ],
      "metadata": {
        "colab": {
          "base_uri": "https://localhost:8080/"
        },
        "id": "U17MYS-LlsrC",
        "outputId": "0850265d-0aee-44cf-9eb7-9aa3232c2f4c"
      },
      "execution_count": null,
      "outputs": [
        {
          "output_type": "execute_result",
          "data": {
            "text/plain": [
              "2"
            ]
          },
          "metadata": {},
          "execution_count": 7
        }
      ]
    },
    {
      "cell_type": "code",
      "source": [
        "2-4"
      ],
      "metadata": {
        "colab": {
          "base_uri": "https://localhost:8080/"
        },
        "id": "rmpUO36Iluhz",
        "outputId": "a721c53e-7a13-45b7-f668-6d4f9094246a"
      },
      "execution_count": null,
      "outputs": [
        {
          "output_type": "execute_result",
          "data": {
            "text/plain": [
              "-2"
            ]
          },
          "metadata": {},
          "execution_count": 8
        }
      ]
    },
    {
      "cell_type": "code",
      "source": [
        "2*3"
      ],
      "metadata": {
        "id": "o_E4UujelxCo"
      },
      "execution_count": null,
      "outputs": []
    },
    {
      "cell_type": "code",
      "source": [
        "4/2"
      ],
      "metadata": {
        "colab": {
          "base_uri": "https://localhost:8080/"
        },
        "id": "3htR2ij1lymS",
        "outputId": "ad52ba51-db41-4590-c4d8-7850a3f7d87b"
      },
      "execution_count": null,
      "outputs": [
        {
          "output_type": "execute_result",
          "data": {
            "text/plain": [
              "2.0"
            ]
          },
          "metadata": {},
          "execution_count": 9
        }
      ]
    },
    {
      "cell_type": "code",
      "source": [
        "5/2"
      ],
      "metadata": {
        "colab": {
          "base_uri": "https://localhost:8080/"
        },
        "id": "nsE12N3Zl22Q",
        "outputId": "39fa36e2-8631-4116-f6c3-b6cd49729ae9"
      },
      "execution_count": null,
      "outputs": [
        {
          "output_type": "execute_result",
          "data": {
            "text/plain": [
              "2.5"
            ]
          },
          "metadata": {},
          "execution_count": 10
        }
      ]
    },
    {
      "cell_type": "code",
      "source": [
        "4//2"
      ],
      "metadata": {
        "colab": {
          "base_uri": "https://localhost:8080/"
        },
        "id": "5Kq3-mx7l5jA",
        "outputId": "4b9050bb-3274-48a7-d917-4d5b0b181fa6"
      },
      "execution_count": null,
      "outputs": [
        {
          "output_type": "execute_result",
          "data": {
            "text/plain": [
              "2"
            ]
          },
          "metadata": {},
          "execution_count": 11
        }
      ]
    },
    {
      "cell_type": "code",
      "source": [
        "5//2"
      ],
      "metadata": {
        "colab": {
          "base_uri": "https://localhost:8080/"
        },
        "id": "wVcP3yy7l9Oc",
        "outputId": "b3d4b96e-394c-4574-8143-af4bc5b49b03"
      },
      "execution_count": null,
      "outputs": [
        {
          "output_type": "execute_result",
          "data": {
            "text/plain": [
              "2"
            ]
          },
          "metadata": {},
          "execution_count": 12
        }
      ]
    },
    {
      "cell_type": "code",
      "source": [
        "2**3"
      ],
      "metadata": {
        "colab": {
          "base_uri": "https://localhost:8080/"
        },
        "id": "8QLc0drXmKqD",
        "outputId": "cf5a5274-ce44-4d44-e68f-e6dfb755e8aa"
      },
      "execution_count": null,
      "outputs": [
        {
          "output_type": "execute_result",
          "data": {
            "text/plain": [
              "8"
            ]
          },
          "metadata": {},
          "execution_count": 13
        }
      ]
    },
    {
      "cell_type": "code",
      "source": [
        "pow(2,3)\n"
      ],
      "metadata": {
        "colab": {
          "base_uri": "https://localhost:8080/"
        },
        "id": "jMjRzys0mNnJ",
        "outputId": "9b855aa9-2458-4585-9fa5-94f234eddb03"
      },
      "execution_count": null,
      "outputs": [
        {
          "output_type": "execute_result",
          "data": {
            "text/plain": [
              "8"
            ]
          },
          "metadata": {},
          "execution_count": 14
        }
      ]
    },
    {
      "cell_type": "code",
      "source": [
        "3%2"
      ],
      "metadata": {
        "colab": {
          "base_uri": "https://localhost:8080/"
        },
        "id": "puKPmg9MmXse",
        "outputId": "e81eaf69-cb6e-4c1f-867e-5087ac881304"
      },
      "execution_count": null,
      "outputs": [
        {
          "output_type": "execute_result",
          "data": {
            "text/plain": [
              "1"
            ]
          },
          "metadata": {},
          "execution_count": 15
        }
      ]
    },
    {
      "cell_type": "code",
      "source": [
        "6%3"
      ],
      "metadata": {
        "colab": {
          "base_uri": "https://localhost:8080/"
        },
        "id": "IQYpg54xmaTR",
        "outputId": "6899a3be-1aae-460f-e86f-09fb49dee922"
      },
      "execution_count": null,
      "outputs": [
        {
          "output_type": "execute_result",
          "data": {
            "text/plain": [
              "0"
            ]
          },
          "metadata": {},
          "execution_count": 16
        }
      ]
    },
    {
      "cell_type": "code",
      "source": [
        "3%5"
      ],
      "metadata": {
        "colab": {
          "base_uri": "https://localhost:8080/"
        },
        "id": "ChebtyZZmj5X",
        "outputId": "9989c057-53bf-41e7-cd9a-3d4ecdd09066"
      },
      "execution_count": null,
      "outputs": [
        {
          "output_type": "execute_result",
          "data": {
            "text/plain": [
              "3"
            ]
          },
          "metadata": {},
          "execution_count": 17
        }
      ]
    },
    {
      "cell_type": "code",
      "source": [
        "2%3"
      ],
      "metadata": {
        "colab": {
          "base_uri": "https://localhost:8080/"
        },
        "id": "N7xiqNHNmroj",
        "outputId": "505d9d9e-5734-456b-815f-50bd327d04dc"
      },
      "execution_count": null,
      "outputs": [
        {
          "output_type": "execute_result",
          "data": {
            "text/plain": [
              "2"
            ]
          },
          "metadata": {},
          "execution_count": 18
        }
      ]
    },
    {
      "cell_type": "code",
      "source": [
        "a=True\n",
        "b=False\n",
        "c=True\n",
        "d=True\n",
        "e=False"
      ],
      "metadata": {
        "id": "5eE2emxUmt62"
      },
      "execution_count": null,
      "outputs": []
    },
    {
      "cell_type": "code",
      "source": [
        "# Inputs - assign data to variables\n",
        "pi=3.14\n",
        "radius=3\n",
        "\n",
        "# Processes - calculate the area and assign it to a variable\n",
        "area=pi*(radius**2)\n",
        "\n",
        "#outputs - display area on the screen\n",
        "print(area)"
      ],
      "metadata": {
        "colab": {
          "base_uri": "https://localhost:8080/"
        },
        "id": "S-5uZjFFrwf4",
        "outputId": "1d6c07a0-54d4-4c07-b6e8-11a2ccdfc122"
      },
      "execution_count": null,
      "outputs": [
        {
          "output_type": "stream",
          "name": "stdout",
          "text": [
            "28.26\n"
          ]
        }
      ]
    },
    {
      "cell_type": "code",
      "source": [
        "radius = 3\n",
        "pi = 3.14\n",
        "\n",
        "radius, pi = 3, 3.14"
      ],
      "metadata": {
        "id": "_lUCu4Av25ir"
      },
      "execution_count": null,
      "outputs": []
    },
    {
      "cell_type": "code",
      "source": [
        "x,y=2,3\n",
        "print(x,y)"
      ],
      "metadata": {
        "colab": {
          "base_uri": "https://localhost:8080/"
        },
        "id": "NfzrcuZO3SuR",
        "outputId": "c821accc-feb7-4c8b-b237-761f15ddf4d9"
      },
      "execution_count": null,
      "outputs": [
        {
          "output_type": "stream",
          "name": "stdout",
          "text": [
            "2 3\n"
          ]
        }
      ]
    },
    {
      "cell_type": "code",
      "source": [
        "x,y=y,x\n",
        "print(x,y)\n"
      ],
      "metadata": {
        "colab": {
          "base_uri": "https://localhost:8080/"
        },
        "id": "7V5EATTa3ZzN",
        "outputId": "5c2482a0-bf4b-4504-9dff-2f52b8f2922f"
      },
      "execution_count": null,
      "outputs": [
        {
          "output_type": "stream",
          "name": "stdout",
          "text": [
            "3 2\n"
          ]
        }
      ]
    },
    {
      "cell_type": "code",
      "source": [
        "print(2, 3)"
      ],
      "metadata": {
        "colab": {
          "base_uri": "https://localhost:8080/"
        },
        "id": "pvJY18r37kk4",
        "outputId": "dc06e386-da86-4924-a89b-6b2f3ebdda3c"
      },
      "execution_count": null,
      "outputs": [
        {
          "output_type": "stream",
          "name": "stdout",
          "text": [
            "2 3\n"
          ]
        }
      ]
    },
    {
      "cell_type": "code",
      "source": [
        "print(x,y)"
      ],
      "metadata": {
        "colab": {
          "base_uri": "https://localhost:8080/"
        },
        "id": "jpe0CP987nc4",
        "outputId": "5a3494e7-0403-4300-b1b1-6d9b0d22bc9b"
      },
      "execution_count": null,
      "outputs": [
        {
          "output_type": "stream",
          "name": "stdout",
          "text": [
            "3 2\n"
          ]
        }
      ]
    },
    {
      "cell_type": "markdown",
      "source": [
        "print(obj(s), sep=\" \", end=\"\\n\", file=..., flush=...)"
      ],
      "metadata": {
        "id": "y112lbOp8d5p"
      }
    },
    {
      "cell_type": "code",
      "source": [
        "print(\"Hello\", \"there\", end=\"\\n\\n\\n\")\n",
        "print(\"Hi\")"
      ],
      "metadata": {
        "colab": {
          "base_uri": "https://localhost:8080/"
        },
        "id": "Wbob2JJL8HQF",
        "outputId": "131c119e-ba27-4cac-b615-fd666c8ee946"
      },
      "execution_count": null,
      "outputs": [
        {
          "output_type": "stream",
          "name": "stdout",
          "text": [
            "Hello there\n",
            "\n",
            "\n",
            "Hi\n"
          ]
        }
      ]
    },
    {
      "cell_type": "code",
      "source": [
        "print(\"Hello\", \"there\", sep=\"---\", end=\" \")\n",
        "print(\"Hi\")"
      ],
      "metadata": {
        "colab": {
          "base_uri": "https://localhost:8080/"
        },
        "id": "owEXbuN2-Wux",
        "outputId": "1d2d2e25-676c-4f5c-e7db-c5ddc88a3ea7"
      },
      "execution_count": null,
      "outputs": [
        {
          "output_type": "stream",
          "name": "stdout",
          "text": [
            "Hello---there Hi\n"
          ]
        }
      ]
    },
    {
      "cell_type": "markdown",
      "source": [
        "'''python\n",
        "\"Hello\" + \"---\" + \"there\" + \" \"\n",
        "\"Hello---there \""
      ],
      "metadata": {
        "id": "1W3R-Leq-omV"
      }
    },
    {
      "cell_type": "code",
      "source": [
        "print(\"This is\\nin two lines\")"
      ],
      "metadata": {
        "colab": {
          "base_uri": "https://localhost:8080/"
        },
        "id": "cesEbWLi-fw-",
        "outputId": "a97cf314-30f5-4bc6-cd89-888bc124d0b4"
      },
      "execution_count": null,
      "outputs": [
        {
          "output_type": "stream",
          "name": "stdout",
          "text": [
            "This is\n",
            "in two lines\n"
          ]
        }
      ]
    },
    {
      "cell_type": "code",
      "source": [
        "month=\"August\"\n",
        "day=27\n",
        "year=2025\n",
        "\n",
        "print(\"Today is\", month, day, \",\", year)"
      ],
      "metadata": {
        "colab": {
          "base_uri": "https://localhost:8080/"
        },
        "id": "qHENhTU8BwNq",
        "outputId": "c2388591-f644-4513-a815-1def4a91bdda"
      },
      "execution_count": null,
      "outputs": [
        {
          "output_type": "stream",
          "name": "stdout",
          "text": [
            "Today is August 27 , 2025\n"
          ]
        }
      ]
    },
    {
      "cell_type": "code",
      "source": [
        "\"Today is {} {}, {}\".format(month, day, year)"
      ],
      "metadata": {
        "colab": {
          "base_uri": "https://localhost:8080/",
          "height": 35
        },
        "id": "sDTcHQXLCJp5",
        "outputId": "ed0539cb-7a10-4be9-e458-f32205c6e651"
      },
      "execution_count": null,
      "outputs": [
        {
          "output_type": "execute_result",
          "data": {
            "text/plain": [
              "'Today is August 27, 2025'"
            ],
            "application/vnd.google.colaboratory.intrinsic+json": {
              "type": "string"
            }
          },
          "metadata": {},
          "execution_count": 15
        }
      ]
    },
    {
      "cell_type": "code",
      "source": [
        "s = \"Today is {} {}, {}\".format(month, day, year)"
      ],
      "metadata": {
        "id": "AyuapIr_DR-A"
      },
      "execution_count": null,
      "outputs": []
    },
    {
      "cell_type": "code",
      "source": [
        "print (s)"
      ],
      "metadata": {
        "id": "W7mrMEmuDZhY",
        "outputId": "3525f10e-aec8-4766-c928-8c7cefdc850d",
        "colab": {
          "base_uri": "https://localhost:8080/"
        }
      },
      "execution_count": null,
      "outputs": [
        {
          "output_type": "stream",
          "name": "stdout",
          "text": [
            "Today is August 27, 2025\n"
          ]
        }
      ]
    },
    {
      "cell_type": "code",
      "source": [
        "month=\"August\"\n",
        "day=27\n",
        "year=2025\n",
        "\n",
        "print(\"Today is\", month, day, \",\", year)\n",
        "print(\"Today is {} {}, {}\".format(month, day, year))\n",
        "print(f\"Today is {month} {day}, {year}\")"
      ],
      "metadata": {
        "colab": {
          "base_uri": "https://localhost:8080/"
        },
        "id": "X6GZgz8w4s08",
        "outputId": "97c7a396-679d-41cf-87c9-0f6a487a1465"
      },
      "execution_count": null,
      "outputs": [
        {
          "output_type": "stream",
          "name": "stdout",
          "text": [
            "Today is August 27 , 2025\n",
            "Today is August 27, 2025\n",
            "Today is August 27, 2025\n"
          ]
        }
      ]
    },
    {
      "cell_type": "code",
      "source": [
        "month= input(\"Enter month: \")\n",
        "print(month, type(month))"
      ],
      "metadata": {
        "colab": {
          "base_uri": "https://localhost:8080/"
        },
        "id": "YORsMiw49Kba",
        "outputId": "43910419-c506-43ab-97da-ff5f77721f7e"
      },
      "execution_count": null,
      "outputs": [
        {
          "output_type": "stream",
          "name": "stdout",
          "text": [
            "Enter month: August\n",
            "August <class 'str'>\n"
          ]
        }
      ]
    },
    {
      "cell_type": "code",
      "source": [
        "day = input(\"Enter day: \")\n",
        "day = float(day)\n",
        "print(day, type(day))"
      ],
      "metadata": {
        "colab": {
          "base_uri": "https://localhost:8080/"
        },
        "id": "rbIwNbjK9la3",
        "outputId": "91adf3ea-a22d-49ba-bbad-e5e0af97e31d"
      },
      "execution_count": null,
      "outputs": [
        {
          "output_type": "stream",
          "name": "stdout",
          "text": [
            "Enter day: 3\n",
            "3.0 <class 'float'>\n"
          ]
        }
      ]
    },
    {
      "cell_type": "markdown",
      "source": [
        "# Inventory management"
      ],
      "metadata": {
        "id": "YvX8NGUUmfha"
      }
    },
    {
      "cell_type": "code",
      "source": [
        "import math\n",
        "\n",
        "#Inputs\n",
        "demand = int(input(\"Enter demand (units/year): \"))\n",
        "reorder = float(input(\"Enter reorder cost ($/order): \"))\n",
        "holding = float(input(\"Enter holding cost ($/unit/year): \"))\n",
        "\n",
        "# Process\n",
        "eoq = (2*demand*reorder/holding) ** (1/2)\n",
        "\n",
        "# Output\n",
        "print(f\"EOQ: {eoq} units\")"
      ],
      "metadata": {
        "colab": {
          "base_uri": "https://localhost:8080/"
        },
        "id": "G8sEqAWyms3G",
        "outputId": "ea41893c-512d-47ec-e28b-de4d66480fa6"
      },
      "execution_count": null,
      "outputs": [
        {
          "output_type": "stream",
          "name": "stdout",
          "text": [
            "Enter demand (units/year): 1000\n",
            "Enter reorder cost ($/order): 50\n",
            "Enter holding cost ($/unit/year): 10\n",
            "EOQ: 100.0 units\n"
          ]
        }
      ]
    },
    {
      "cell_type": "markdown",
      "source": [
        "# 9/8 Class Notes\n"
      ],
      "metadata": {
        "id": "O8vEuPwtwM3V"
      }
    },
    {
      "cell_type": "code",
      "source": [
        "x=5\n",
        "\n",
        "if x>3:\n",
        "  print(\"x is greater than 3.\")\n",
        "\n",
        "  print(\"Press any key to continue...\")"
      ],
      "metadata": {
        "colab": {
          "base_uri": "https://localhost:8080/"
        },
        "id": "JKfVRe33wR_D",
        "outputId": "9480ff26-4692-4d4e-d14e-dcbe563e2f17"
      },
      "execution_count": null,
      "outputs": [
        {
          "output_type": "stream",
          "name": "stdout",
          "text": [
            "x is greater than 3.\n",
            "Press any key to continue...\n"
          ]
        }
      ]
    },
    {
      "cell_type": "code",
      "source": [
        "grade = 90\n",
        "\n",
        "if grade >= 90:\n",
        "  print(\"A\")\n",
        "else:\n",
        "  print(\"A-\")\n",
        "\n",
        "print(\"Goodbye...\")"
      ],
      "metadata": {
        "colab": {
          "base_uri": "https://localhost:8080/"
        },
        "id": "0ybxkkpcyh4O",
        "outputId": "8567866a-93be-47a2-b952-745cd09b3156"
      },
      "execution_count": null,
      "outputs": [
        {
          "output_type": "stream",
          "name": "stdout",
          "text": [
            "A\n",
            "Goodbye...\n"
          ]
        }
      ]
    },
    {
      "cell_type": "code",
      "source": [
        "grade = 90\n",
        "\n",
        "if grade >= 97:\n",
        "  print (\"A+\")\n",
        "elif grade >= 93:\n",
        "  print(\"A\")\n",
        "elif grade >= 90:\n",
        "  print(\"A-\")\n",
        "elif grade >= 88:\n",
        "  print(\"B+\")\n",
        "else:\n",
        "  print(\"B\")"
      ],
      "metadata": {
        "colab": {
          "base_uri": "https://localhost:8080/"
        },
        "id": "IiUpj_drzi1-",
        "outputId": "b65259b9-6615-403a-9c2d-6e7508d58fd9"
      },
      "execution_count": null,
      "outputs": [
        {
          "output_type": "stream",
          "name": "stdout",
          "text": [
            "A-\n"
          ]
        }
      ]
    },
    {
      "cell_type": "markdown",
      "source": [
        "# 9/10 class notes"
      ],
      "metadata": {
        "id": "-nkkDiRR92qu"
      }
    },
    {
      "cell_type": "code",
      "source": [
        "x= int(input('Enter a number:'))\n",
        "\n",
        "if x % 2 == 0:\n",
        "  if x % 3 == 0:\n",
        "    print(f\"{x} is divisible by both. \")\n",
        "  else:\n",
        "    print(f\"{x} is divisible by 2 but not by 3.\")\n",
        "elif x % 3 == 0:\n",
        "  print(f\"{x} is divisble by 3 but not by 2.\")\n",
        "else:\n",
        "  print(f\"{x} is divisible by none of them.\")"
      ],
      "metadata": {
        "colab": {
          "base_uri": "https://localhost:8080/"
        },
        "id": "6sgP_0gh9561",
        "outputId": "09d7c88d-221c-4311-bcd6-58779e35b48a"
      },
      "execution_count": null,
      "outputs": [
        {
          "output_type": "stream",
          "name": "stdout",
          "text": [
            "Enter a number:8\n",
            "8 is divisible by 2 but not by 3.\n"
          ]
        }
      ]
    },
    {
      "cell_type": "code",
      "source": [
        "x = int(input('Enter a number:'))\n",
        "\n",
        "if x % 2 == 0 and x % 3 == 0:\n",
        "  print (f\"{x} is divisible by both.\")\n",
        "elif x % 2 == 0 and x % 3 != 0:\n",
        "  print(f\"{x} is divisible by 2 only.\")\n",
        "elif x % 3 == 0 and x % 2 !=0:\n",
        "  print(f\"{x} is divisible by 3 only.\")\n",
        "else:\n",
        "  print(f\"{x} is divisible by none of them.\")"
      ],
      "metadata": {
        "colab": {
          "base_uri": "https://localhost:8080/"
        },
        "id": "Nka1bL7fE-Wq",
        "outputId": "2fbc2ba8-24d8-4561-f93e-6e5e93db160e"
      },
      "execution_count": null,
      "outputs": [
        {
          "output_type": "stream",
          "name": "stdout",
          "text": [
            "Enter a number:9\n",
            "9 is divisible by 3 only.\n"
          ]
        }
      ]
    },
    {
      "cell_type": "code",
      "source": [
        "x = int(input('Enter a number:'))\n",
        "\n",
        "print('Even' if x % 2 == 0 else 'Odd')\n"
      ],
      "metadata": {
        "id": "305YEQFMJYS5"
      },
      "execution_count": null,
      "outputs": []
    },
    {
      "cell_type": "markdown",
      "source": [
        "# Numerical calculator\n"
      ],
      "metadata": {
        "id": "9X29ZaJqp0d3"
      }
    },
    {
      "cell_type": "markdown",
      "source": [
        "# Design a simple numerical calculator in Python. The user needs to provide three inputs: two numbers and the mathematical operator of their choice. The program should print the output on the screen.\n"
      ],
      "metadata": {
        "id": "sZ49-Z2BqNs0"
      }
    },
    {
      "cell_type": "code",
      "source": [
        "n1 = float(input(\"Enter number 1: \"))\n",
        "n2 = float(input(\"Enter number 2:\"))\n",
        "op = input(\"Enter operator (+,-,*,/,//,%,**)\")\n",
        "\n",
        "if op == '+':\n",
        "  res = n1 + n2\n",
        "elif op == \"-\":\n",
        "  res = n1 - n2\n",
        "elif op == \"*\":\n",
        "  res = n1 * n2\n",
        "elif op == \"/\":\n",
        "  res = n1 / n2\n",
        "elif op == \"//\":\n",
        "  res = n1 // n2\n",
        "elif op == \"**\":\n",
        "  res = n1 ** n2\n",
        "elif op == \"%\":\n",
        "  res = n1 % n2\n",
        "else:\n",
        "  res = None\n",
        "  print(f\"Invalid operator\")\n",
        "\n",
        "print(f\"result = {res}\")"
      ],
      "metadata": {
        "colab": {
          "base_uri": "https://localhost:8080/"
        },
        "id": "jLeO3E78qxMY",
        "outputId": "d3cbb22a-30ff-4804-a71b-5e3b8f0f11b8"
      },
      "execution_count": null,
      "outputs": [
        {
          "output_type": "stream",
          "name": "stdout",
          "text": [
            "Enter number 1: 5\n",
            "Enter number 2:2\n",
            "Enter operator (+,-,*,/,//,%,**)**\n",
            "result = 25.0\n"
          ]
        }
      ]
    },
    {
      "cell_type": "markdown",
      "source": [
        "# 9/15"
      ],
      "metadata": {
        "id": "7DfAHJRRyaa2"
      }
    },
    {
      "cell_type": "code",
      "source": [
        "from ColabTurtlePlus.Turtle import *\n",
        "# setting up the screen commands\n",
        "clearscreen ()\n",
        "reset = True\n",
        "clear()\n",
        "\n",
        "#initialize drawing process\n",
        "color('black, 'green')\n",
        "jumpto(0,0)\n",
        "\n",
        "for _ in range(4):\n",
        "  forward(100)\n",
        "  left(90)\n"
      ],
      "metadata": {
        "colab": {
          "base_uri": "https://localhost:8080/",
          "height": 106
        },
        "id": "qiV3GHd7qVDa",
        "outputId": "1f3ca98e-610f-4e15-894f-12404f6a674f"
      },
      "execution_count": null,
      "outputs": [
        {
          "output_type": "error",
          "ename": "SyntaxError",
          "evalue": "unterminated string literal (detected at line 8) (ipython-input-3287394597.py, line 8)",
          "traceback": [
            "\u001b[0;36m  File \u001b[0;32m\"/tmp/ipython-input-3287394597.py\"\u001b[0;36m, line \u001b[0;32m8\u001b[0m\n\u001b[0;31m    color('black, 'green')\u001b[0m\n\u001b[0m                        ^\u001b[0m\n\u001b[0;31mSyntaxError\u001b[0m\u001b[0;31m:\u001b[0m unterminated string literal (detected at line 8)\n"
          ]
        }
      ]
    },
    {
      "cell_type": "code",
      "source": [
        "for num in range(0,11):\n",
        "  print num"
      ],
      "metadata": {
        "colab": {
          "base_uri": "https://localhost:8080/",
          "height": 106
        },
        "id": "lCYGj2Pi5pQr",
        "outputId": "313e964b-fc34-471b-fabb-c69b72fb0b18"
      },
      "execution_count": null,
      "outputs": [
        {
          "output_type": "error",
          "ename": "SyntaxError",
          "evalue": "Missing parentheses in call to 'print'. Did you mean print(...)? (ipython-input-3568970596.py, line 2)",
          "traceback": [
            "\u001b[0;36m  File \u001b[0;32m\"/tmp/ipython-input-3568970596.py\"\u001b[0;36m, line \u001b[0;32m2\u001b[0m\n\u001b[0;31m    print num\u001b[0m\n\u001b[0m    ^\u001b[0m\n\u001b[0;31mSyntaxError\u001b[0m\u001b[0;31m:\u001b[0m Missing parentheses in call to 'print'. Did you mean print(...)?\n"
          ]
        }
      ]
    },
    {
      "cell_type": "markdown",
      "source": [
        "# 9/17"
      ],
      "metadata": {
        "id": "rF0q41LR99Wp"
      }
    },
    {
      "cell_type": "markdown",
      "source": [
        "A parking garage charges $5 plus $2.50 for eacg hour parked.\n",
        "\n",
        "Write a program that prints the number of hours parked and the corresponding fee side by side, from 1 to 8 hours.\n",
        "\n",
        "Example output:\n",
        "1 7.5\n",
        "2 10.0\n",
        "3 12.5\n",
        "4 15.0\n",
        "5 17.50\n",
        "6 20.0\n",
        "7 22.5\n",
        "8 25.0\n",
        "\n",
        "Bonus: The minimum fee is $10 and the maximum fee is $20"
      ],
      "metadata": {
        "id": "AVMJ3iIp-CUL"
      }
    },
    {
      "cell_type": "code",
      "source": [
        "for hour in range (1,9):\n",
        "  fee = 5 + 2.5 * hour\n",
        "\n",
        "  if fee < 10:\n",
        "    fee = 10.0\n",
        "  elif fee > 20:\n",
        "    fee = 20.0\n",
        "  print(hour, fee)\n",
        "\n",
        "\n"
      ],
      "metadata": {
        "colab": {
          "base_uri": "https://localhost:8080/"
        },
        "id": "8tVmL-dj-AuH",
        "outputId": "757fd9e8-5c29-4af9-ac3a-544203e4ea51"
      },
      "execution_count": null,
      "outputs": [
        {
          "output_type": "stream",
          "name": "stdout",
          "text": [
            "1 10.0\n",
            "2 10.0\n",
            "3 12.5\n",
            "4 15.0\n",
            "5 17.5\n",
            "6 20.0\n",
            "7 20.0\n",
            "8 20.0\n"
          ]
        }
      ]
    },
    {
      "cell_type": "code",
      "source": [
        "for number in range(1,4):\n",
        "  print(number, number ** 2)"
      ],
      "metadata": {
        "colab": {
          "base_uri": "https://localhost:8080/"
        },
        "id": "djcp8rOYGuqh",
        "outputId": "96ab713a-3451-450d-f4cf-5d2adedd7892"
      },
      "execution_count": null,
      "outputs": [
        {
          "output_type": "stream",
          "name": "stdout",
          "text": [
            "1 1\n",
            "2 4\n",
            "3 9\n"
          ]
        }
      ]
    },
    {
      "cell_type": "code",
      "source": [
        "number = 1\n",
        "while number < 4:\n",
        "  print (number, number **2)\n",
        "  number = number + 1"
      ],
      "metadata": {
        "colab": {
          "base_uri": "https://localhost:8080/"
        },
        "id": "1lJPMZTFG-EI",
        "outputId": "112f685b-b6cf-4221-b29b-63ac0bfa3ea0"
      },
      "execution_count": null,
      "outputs": [
        {
          "output_type": "stream",
          "name": "stdout",
          "text": [
            "1 1\n",
            "2 4\n",
            "3 9\n"
          ]
        }
      ]
    },
    {
      "cell_type": "code",
      "source": [
        "number = float(input(\"Give a number: \"))\n",
        "while number != 0:\n",
        "  print(number)\n",
        "  number = float(input(\"Give another number: \"))"
      ],
      "metadata": {
        "colab": {
          "base_uri": "https://localhost:8080/",
          "height": 506
        },
        "id": "N8GR1X1bJa4T",
        "outputId": "a24ece19-059b-4df7-9efe-54f2b4342069"
      },
      "execution_count": null,
      "outputs": [
        {
          "name": "stdout",
          "output_type": "stream",
          "text": [
            "Give a number: 5\n",
            "5.0\n",
            "Give another number: -9\n",
            "-9.0\n",
            "Give another number: 5\n",
            "5.0\n",
            "Give another number: 5\n",
            "5.0\n",
            "Give another number: 5\n",
            "5.0\n",
            "Give another number: 5\n",
            "5.0\n",
            "Give another number: 5\n",
            "5.0\n",
            "Give another number: 5\n",
            "5.0\n",
            "Give another number: 5\n",
            "5.0\n",
            "Give another number: \n"
          ]
        },
        {
          "output_type": "error",
          "ename": "ValueError",
          "evalue": "could not convert string to float: ''",
          "traceback": [
            "\u001b[0;31m---------------------------------------------------------------------------\u001b[0m",
            "\u001b[0;31mValueError\u001b[0m                                Traceback (most recent call last)",
            "\u001b[0;32m/tmp/ipython-input-1437951143.py\u001b[0m in \u001b[0;36m<cell line: 0>\u001b[0;34m()\u001b[0m\n\u001b[1;32m      2\u001b[0m \u001b[0;32mwhile\u001b[0m \u001b[0mnumber\u001b[0m \u001b[0;34m!=\u001b[0m \u001b[0;36m0\u001b[0m\u001b[0;34m:\u001b[0m\u001b[0;34m\u001b[0m\u001b[0;34m\u001b[0m\u001b[0m\n\u001b[1;32m      3\u001b[0m   \u001b[0mprint\u001b[0m\u001b[0;34m(\u001b[0m\u001b[0mnumber\u001b[0m\u001b[0;34m)\u001b[0m\u001b[0;34m\u001b[0m\u001b[0;34m\u001b[0m\u001b[0m\n\u001b[0;32m----> 4\u001b[0;31m   \u001b[0mnumber\u001b[0m \u001b[0;34m=\u001b[0m \u001b[0mfloat\u001b[0m\u001b[0;34m(\u001b[0m\u001b[0minput\u001b[0m\u001b[0;34m(\u001b[0m\u001b[0;34m\"Give another number: \"\u001b[0m\u001b[0;34m)\u001b[0m\u001b[0;34m)\u001b[0m\u001b[0;34m\u001b[0m\u001b[0;34m\u001b[0m\u001b[0m\n\u001b[0m",
            "\u001b[0;31mValueError\u001b[0m: could not convert string to float: ''"
          ]
        }
      ]
    },
    {
      "cell_type": "code",
      "source": [
        "for number in range(10):\n",
        "   if number % 2 != 0:\n",
        "    continue\n",
        "\n",
        "    print(number)\n"
      ],
      "metadata": {
        "id": "nS71dsmqLufq"
      },
      "execution_count": null,
      "outputs": []
    },
    {
      "cell_type": "code",
      "source": [
        "for i in range (100000000000000):\n",
        "  if i == 3:\n",
        "    break\n",
        "  print (i)"
      ],
      "metadata": {
        "colab": {
          "base_uri": "https://localhost:8080/"
        },
        "id": "_oHxXRp5Mcc3",
        "outputId": "2e65f4cd-6d05-4bc2-ed9e-ee8e2a2754bc"
      },
      "execution_count": null,
      "outputs": [
        {
          "output_type": "stream",
          "name": "stdout",
          "text": [
            "0\n",
            "1\n",
            "2\n"
          ]
        }
      ]
    },
    {
      "cell_type": "markdown",
      "source": [
        "# 9/22"
      ],
      "metadata": {
        "id": "BKjstDlKs45M"
      }
    },
    {
      "cell_type": "markdown",
      "source": [
        "A movie theater manager is deciding how much to spend on advertisising for an upcoming movie. Each ticket is $10. Without any advertising, 20 people are forecasted to attend. Additional people may attend based on advertising spending, estimated to be:\n",
        "  Additional attendees = 2 x advertisingDollars^1/2\n",
        "In addition to advertising costs, there are fixed costs to run the theater of $200\n",
        "\n",
        "Write a program to generate a table for different advertising amounts and profits. Example output(may differ slightly from your results):"
      ],
      "metadata": {
        "id": "Gxcn-rBGs_p8"
      }
    },
    {
      "cell_type": "code",
      "source": [
        "print(\"Ad ($) Profit ($)\")\n",
        "for ad in range(0,201,25):\n",
        "  revenue = (20 + 2 * ad ** 0.5) * 10\n",
        "  costs = 200 + ad\n",
        "  profit = revenue - costs\n",
        "  print(f\"{ad}, \\t {round(profit)}\")"
      ],
      "metadata": {
        "colab": {
          "base_uri": "https://localhost:8080/"
        },
        "id": "4B3gl-IFtsmF",
        "outputId": "0f0ec532-d502-4644-b8d3-92d45d7eaf0f"
      },
      "execution_count": 3,
      "outputs": [
        {
          "output_type": "stream",
          "name": "stdout",
          "text": [
            "Ad ($) Profit ($)\n",
            "0, \t 0\n",
            "25, \t 75\n",
            "50, \t 91\n",
            "75, \t 98\n",
            "100, \t 100\n",
            "125, \t 99\n",
            "150, \t 95\n",
            "175, \t 90\n",
            "200, \t 83\n"
          ]
        }
      ]
    }
  ]
}