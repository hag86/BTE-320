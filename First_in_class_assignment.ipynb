{
  "nbformat": 4,
  "nbformat_minor": 0,
  "metadata": {
    "colab": {
      "provenance": [],
      "authorship_tag": "ABX9TyNX4qrBRgWayvZPWeY9EuXT",
      "include_colab_link": true
    },
    "kernelspec": {
      "name": "python3",
      "display_name": "Python 3"
    },
    "language_info": {
      "name": "python"
    }
  },
  "cells": [
    {
      "cell_type": "markdown",
      "metadata": {
        "id": "view-in-github",
        "colab_type": "text"
      },
      "source": [
        "<a href=\"https://colab.research.google.com/github/hag86/BTE-320/blob/main/First_in_class_assignment.ipynb\" target=\"_parent\"><img src=\"https://colab.research.google.com/assets/colab-badge.svg\" alt=\"Open In Colab\"/></a>"
      ]
    },
    {
      "cell_type": "code",
      "execution_count": null,
      "metadata": {
        "colab": {
          "base_uri": "https://localhost:8080/"
        },
        "id": "aQr1OaIykeZm",
        "outputId": "57ec8ecf-c993-41c9-d3f0-23dfc412f361"
      },
      "outputs": [
        {
          "output_type": "stream",
          "name": "stdout",
          "text": [
            "Hello\n"
          ]
        }
      ],
      "source": [
        "a==b\n",
        "a!=b\n",
        "\n",
        "a<b\n",
        "a<=b\n",
        "a>b\n",
        "a>=b\n"
      ]
    },
    {
      "cell_type": "code",
      "source": [
        "3+2"
      ],
      "metadata": {
        "colab": {
          "base_uri": "https://localhost:8080/"
        },
        "id": "B5pBmaOWlC-P",
        "outputId": "bf138988-bd57-483b-9cb5-bf2ac873a066"
      },
      "execution_count": null,
      "outputs": [
        {
          "output_type": "execute_result",
          "data": {
            "text/plain": [
              "5"
            ]
          },
          "metadata": {},
          "execution_count": 5
        }
      ]
    },
    {
      "cell_type": "code",
      "source": [
        "3.0+2.0"
      ],
      "metadata": {
        "colab": {
          "base_uri": "https://localhost:8080/"
        },
        "id": "V7WLQgu6lKBE",
        "outputId": "51e67145-7655-4aee-d000-6cb10d318fd6"
      },
      "execution_count": null,
      "outputs": [
        {
          "output_type": "execute_result",
          "data": {
            "text/plain": [
              "5.0"
            ]
          },
          "metadata": {},
          "execution_count": 4
        }
      ]
    },
    {
      "cell_type": "code",
      "source": [
        "3+2.0"
      ],
      "metadata": {
        "colab": {
          "base_uri": "https://localhost:8080/"
        },
        "id": "CNiXoLqAlg3O",
        "outputId": "f3930dfc-24df-435a-c12c-13ee38a0bee9"
      },
      "execution_count": null,
      "outputs": [
        {
          "output_type": "execute_result",
          "data": {
            "text/plain": [
              "5.0"
            ]
          },
          "metadata": {},
          "execution_count": 6
        }
      ]
    },
    {
      "cell_type": "code",
      "source": [
        "3-1"
      ],
      "metadata": {
        "colab": {
          "base_uri": "https://localhost:8080/"
        },
        "id": "U17MYS-LlsrC",
        "outputId": "0850265d-0aee-44cf-9eb7-9aa3232c2f4c"
      },
      "execution_count": null,
      "outputs": [
        {
          "output_type": "execute_result",
          "data": {
            "text/plain": [
              "2"
            ]
          },
          "metadata": {},
          "execution_count": 7
        }
      ]
    },
    {
      "cell_type": "code",
      "source": [
        "2-4"
      ],
      "metadata": {
        "colab": {
          "base_uri": "https://localhost:8080/"
        },
        "id": "rmpUO36Iluhz",
        "outputId": "a721c53e-7a13-45b7-f668-6d4f9094246a"
      },
      "execution_count": null,
      "outputs": [
        {
          "output_type": "execute_result",
          "data": {
            "text/plain": [
              "-2"
            ]
          },
          "metadata": {},
          "execution_count": 8
        }
      ]
    },
    {
      "cell_type": "code",
      "source": [
        "2*3"
      ],
      "metadata": {
        "id": "o_E4UujelxCo"
      },
      "execution_count": null,
      "outputs": []
    },
    {
      "cell_type": "code",
      "source": [
        "4/2"
      ],
      "metadata": {
        "colab": {
          "base_uri": "https://localhost:8080/"
        },
        "id": "3htR2ij1lymS",
        "outputId": "ad52ba51-db41-4590-c4d8-7850a3f7d87b"
      },
      "execution_count": null,
      "outputs": [
        {
          "output_type": "execute_result",
          "data": {
            "text/plain": [
              "2.0"
            ]
          },
          "metadata": {},
          "execution_count": 9
        }
      ]
    },
    {
      "cell_type": "code",
      "source": [
        "5/2"
      ],
      "metadata": {
        "colab": {
          "base_uri": "https://localhost:8080/"
        },
        "id": "nsE12N3Zl22Q",
        "outputId": "39fa36e2-8631-4116-f6c3-b6cd49729ae9"
      },
      "execution_count": null,
      "outputs": [
        {
          "output_type": "execute_result",
          "data": {
            "text/plain": [
              "2.5"
            ]
          },
          "metadata": {},
          "execution_count": 10
        }
      ]
    },
    {
      "cell_type": "code",
      "source": [
        "4//2"
      ],
      "metadata": {
        "colab": {
          "base_uri": "https://localhost:8080/"
        },
        "id": "5Kq3-mx7l5jA",
        "outputId": "4b9050bb-3274-48a7-d917-4d5b0b181fa6"
      },
      "execution_count": null,
      "outputs": [
        {
          "output_type": "execute_result",
          "data": {
            "text/plain": [
              "2"
            ]
          },
          "metadata": {},
          "execution_count": 11
        }
      ]
    },
    {
      "cell_type": "code",
      "source": [
        "5//2"
      ],
      "metadata": {
        "colab": {
          "base_uri": "https://localhost:8080/"
        },
        "id": "wVcP3yy7l9Oc",
        "outputId": "b3d4b96e-394c-4574-8143-af4bc5b49b03"
      },
      "execution_count": null,
      "outputs": [
        {
          "output_type": "execute_result",
          "data": {
            "text/plain": [
              "2"
            ]
          },
          "metadata": {},
          "execution_count": 12
        }
      ]
    },
    {
      "cell_type": "code",
      "source": [
        "2**3"
      ],
      "metadata": {
        "colab": {
          "base_uri": "https://localhost:8080/"
        },
        "id": "8QLc0drXmKqD",
        "outputId": "cf5a5274-ce44-4d44-e68f-e6dfb755e8aa"
      },
      "execution_count": null,
      "outputs": [
        {
          "output_type": "execute_result",
          "data": {
            "text/plain": [
              "8"
            ]
          },
          "metadata": {},
          "execution_count": 13
        }
      ]
    },
    {
      "cell_type": "code",
      "source": [
        "pow(2,3)\n"
      ],
      "metadata": {
        "colab": {
          "base_uri": "https://localhost:8080/"
        },
        "id": "jMjRzys0mNnJ",
        "outputId": "9b855aa9-2458-4585-9fa5-94f234eddb03"
      },
      "execution_count": null,
      "outputs": [
        {
          "output_type": "execute_result",
          "data": {
            "text/plain": [
              "8"
            ]
          },
          "metadata": {},
          "execution_count": 14
        }
      ]
    },
    {
      "cell_type": "code",
      "source": [
        "3%2"
      ],
      "metadata": {
        "colab": {
          "base_uri": "https://localhost:8080/"
        },
        "id": "puKPmg9MmXse",
        "outputId": "e81eaf69-cb6e-4c1f-867e-5087ac881304"
      },
      "execution_count": null,
      "outputs": [
        {
          "output_type": "execute_result",
          "data": {
            "text/plain": [
              "1"
            ]
          },
          "metadata": {},
          "execution_count": 15
        }
      ]
    },
    {
      "cell_type": "code",
      "source": [
        "6%3"
      ],
      "metadata": {
        "colab": {
          "base_uri": "https://localhost:8080/"
        },
        "id": "IQYpg54xmaTR",
        "outputId": "6899a3be-1aae-460f-e86f-09fb49dee922"
      },
      "execution_count": null,
      "outputs": [
        {
          "output_type": "execute_result",
          "data": {
            "text/plain": [
              "0"
            ]
          },
          "metadata": {},
          "execution_count": 16
        }
      ]
    },
    {
      "cell_type": "code",
      "source": [
        "3%5"
      ],
      "metadata": {
        "colab": {
          "base_uri": "https://localhost:8080/"
        },
        "id": "ChebtyZZmj5X",
        "outputId": "9989c057-53bf-41e7-cd9a-3d4ecdd09066"
      },
      "execution_count": null,
      "outputs": [
        {
          "output_type": "execute_result",
          "data": {
            "text/plain": [
              "3"
            ]
          },
          "metadata": {},
          "execution_count": 17
        }
      ]
    },
    {
      "cell_type": "code",
      "source": [
        "2%3"
      ],
      "metadata": {
        "colab": {
          "base_uri": "https://localhost:8080/"
        },
        "id": "N7xiqNHNmroj",
        "outputId": "505d9d9e-5734-456b-815f-50bd327d04dc"
      },
      "execution_count": null,
      "outputs": [
        {
          "output_type": "execute_result",
          "data": {
            "text/plain": [
              "2"
            ]
          },
          "metadata": {},
          "execution_count": 18
        }
      ]
    },
    {
      "cell_type": "code",
      "source": [
        "a=True\n",
        "b=False\n",
        "c=True\n",
        "d=True\n",
        "e=False"
      ],
      "metadata": {
        "id": "5eE2emxUmt62"
      },
      "execution_count": null,
      "outputs": []
    },
    {
      "cell_type": "code",
      "source": [
        "# Inputs - assign data to variables\n",
        "pi=3.14\n",
        "radius=3\n",
        "\n",
        "# Processes - calculate the area and assign it to a variable\n",
        "area=pi*(radius**2)\n",
        "\n",
        "#outputs - display area on the screen\n",
        "print(area)"
      ],
      "metadata": {
        "colab": {
          "base_uri": "https://localhost:8080/"
        },
        "id": "S-5uZjFFrwf4",
        "outputId": "1d6c07a0-54d4-4c07-b6e8-11a2ccdfc122"
      },
      "execution_count": null,
      "outputs": [
        {
          "output_type": "stream",
          "name": "stdout",
          "text": [
            "28.26\n"
          ]
        }
      ]
    },
    {
      "cell_type": "code",
      "source": [
        "radius = 3\n",
        "pi = 3.14\n",
        "\n",
        "radius, pi = 3, 3.14"
      ],
      "metadata": {
        "id": "_lUCu4Av25ir"
      },
      "execution_count": null,
      "outputs": []
    },
    {
      "cell_type": "code",
      "source": [
        "x,y=2,3\n",
        "print(x,y)"
      ],
      "metadata": {
        "colab": {
          "base_uri": "https://localhost:8080/"
        },
        "id": "NfzrcuZO3SuR",
        "outputId": "c821accc-feb7-4c8b-b237-761f15ddf4d9"
      },
      "execution_count": null,
      "outputs": [
        {
          "output_type": "stream",
          "name": "stdout",
          "text": [
            "2 3\n"
          ]
        }
      ]
    },
    {
      "cell_type": "code",
      "source": [
        "x,y=y,x\n",
        "print(x,y)\n"
      ],
      "metadata": {
        "colab": {
          "base_uri": "https://localhost:8080/"
        },
        "id": "7V5EATTa3ZzN",
        "outputId": "5c2482a0-bf4b-4504-9dff-2f52b8f2922f"
      },
      "execution_count": null,
      "outputs": [
        {
          "output_type": "stream",
          "name": "stdout",
          "text": [
            "3 2\n"
          ]
        }
      ]
    },
    {
      "cell_type": "code",
      "source": [
        "print(2, 3)"
      ],
      "metadata": {
        "colab": {
          "base_uri": "https://localhost:8080/"
        },
        "id": "pvJY18r37kk4",
        "outputId": "dc06e386-da86-4924-a89b-6b2f3ebdda3c"
      },
      "execution_count": null,
      "outputs": [
        {
          "output_type": "stream",
          "name": "stdout",
          "text": [
            "2 3\n"
          ]
        }
      ]
    },
    {
      "cell_type": "code",
      "source": [
        "print(x,y)"
      ],
      "metadata": {
        "colab": {
          "base_uri": "https://localhost:8080/"
        },
        "id": "jpe0CP987nc4",
        "outputId": "5a3494e7-0403-4300-b1b1-6d9b0d22bc9b"
      },
      "execution_count": null,
      "outputs": [
        {
          "output_type": "stream",
          "name": "stdout",
          "text": [
            "3 2\n"
          ]
        }
      ]
    },
    {
      "cell_type": "markdown",
      "source": [
        "print(obj(s), sep=\" \", end=\"\\n\", file=..., flush=...)"
      ],
      "metadata": {
        "id": "y112lbOp8d5p"
      }
    },
    {
      "cell_type": "code",
      "source": [
        "print(\"Hello\", \"there\", end=\"\\n\\n\\n\")\n",
        "print(\"Hi\")"
      ],
      "metadata": {
        "colab": {
          "base_uri": "https://localhost:8080/"
        },
        "id": "Wbob2JJL8HQF",
        "outputId": "131c119e-ba27-4cac-b615-fd666c8ee946"
      },
      "execution_count": null,
      "outputs": [
        {
          "output_type": "stream",
          "name": "stdout",
          "text": [
            "Hello there\n",
            "\n",
            "\n",
            "Hi\n"
          ]
        }
      ]
    },
    {
      "cell_type": "code",
      "source": [
        "print(\"Hello\", \"there\", sep=\"---\", end=\" \")\n",
        "print(\"Hi\")"
      ],
      "metadata": {
        "colab": {
          "base_uri": "https://localhost:8080/"
        },
        "id": "owEXbuN2-Wux",
        "outputId": "1d2d2e25-676c-4f5c-e7db-c5ddc88a3ea7"
      },
      "execution_count": null,
      "outputs": [
        {
          "output_type": "stream",
          "name": "stdout",
          "text": [
            "Hello---there Hi\n"
          ]
        }
      ]
    },
    {
      "cell_type": "markdown",
      "source": [
        "'''python\n",
        "\"Hello\" + \"---\" + \"there\" + \" \"\n",
        "\"Hello---there \""
      ],
      "metadata": {
        "id": "1W3R-Leq-omV"
      }
    },
    {
      "cell_type": "code",
      "source": [
        "print(\"This is\\nin two lines\")"
      ],
      "metadata": {
        "colab": {
          "base_uri": "https://localhost:8080/"
        },
        "id": "cesEbWLi-fw-",
        "outputId": "a97cf314-30f5-4bc6-cd89-888bc124d0b4"
      },
      "execution_count": null,
      "outputs": [
        {
          "output_type": "stream",
          "name": "stdout",
          "text": [
            "This is\n",
            "in two lines\n"
          ]
        }
      ]
    },
    {
      "cell_type": "code",
      "source": [
        "month=\"August\"\n",
        "day=27\n",
        "year=2025\n",
        "\n",
        "print(\"Today is\", month, day, \",\", year)"
      ],
      "metadata": {
        "colab": {
          "base_uri": "https://localhost:8080/"
        },
        "id": "qHENhTU8BwNq",
        "outputId": "c2388591-f644-4513-a815-1def4a91bdda"
      },
      "execution_count": null,
      "outputs": [
        {
          "output_type": "stream",
          "name": "stdout",
          "text": [
            "Today is August 27 , 2025\n"
          ]
        }
      ]
    },
    {
      "cell_type": "code",
      "source": [
        "\"Today is {} {}, {}\".format(month, day, year)"
      ],
      "metadata": {
        "colab": {
          "base_uri": "https://localhost:8080/",
          "height": 35
        },
        "id": "sDTcHQXLCJp5",
        "outputId": "ed0539cb-7a10-4be9-e458-f32205c6e651"
      },
      "execution_count": null,
      "outputs": [
        {
          "output_type": "execute_result",
          "data": {
            "text/plain": [
              "'Today is August 27, 2025'"
            ],
            "application/vnd.google.colaboratory.intrinsic+json": {
              "type": "string"
            }
          },
          "metadata": {},
          "execution_count": 15
        }
      ]
    },
    {
      "cell_type": "code",
      "source": [
        "s = \"Today is {} {}, {}\".format(month, day, year)"
      ],
      "metadata": {
        "id": "AyuapIr_DR-A"
      },
      "execution_count": null,
      "outputs": []
    },
    {
      "cell_type": "code",
      "source": [
        "print (s)"
      ],
      "metadata": {
        "id": "W7mrMEmuDZhY",
        "outputId": "3525f10e-aec8-4766-c928-8c7cefdc850d",
        "colab": {
          "base_uri": "https://localhost:8080/"
        }
      },
      "execution_count": null,
      "outputs": [
        {
          "output_type": "stream",
          "name": "stdout",
          "text": [
            "Today is August 27, 2025\n"
          ]
        }
      ]
    },
    {
      "cell_type": "code",
      "source": [
        "month=\"August\"\n",
        "day=27\n",
        "year=2025\n",
        "\n",
        "print(\"Today is\", month, day, \",\", year)\n",
        "print(\"Today is {} {}, {}\".format(month, day, year))\n",
        "print(f\"Today is {month} {day}, {year}\")"
      ],
      "metadata": {
        "colab": {
          "base_uri": "https://localhost:8080/"
        },
        "id": "X6GZgz8w4s08",
        "outputId": "97c7a396-679d-41cf-87c9-0f6a487a1465"
      },
      "execution_count": null,
      "outputs": [
        {
          "output_type": "stream",
          "name": "stdout",
          "text": [
            "Today is August 27 , 2025\n",
            "Today is August 27, 2025\n",
            "Today is August 27, 2025\n"
          ]
        }
      ]
    },
    {
      "cell_type": "code",
      "source": [
        "month= input(\"Enter month: \")\n",
        "print(month, type(month))"
      ],
      "metadata": {
        "colab": {
          "base_uri": "https://localhost:8080/"
        },
        "id": "YORsMiw49Kba",
        "outputId": "43910419-c506-43ab-97da-ff5f77721f7e"
      },
      "execution_count": null,
      "outputs": [
        {
          "output_type": "stream",
          "name": "stdout",
          "text": [
            "Enter month: August\n",
            "August <class 'str'>\n"
          ]
        }
      ]
    },
    {
      "cell_type": "code",
      "source": [
        "day = input(\"Enter day: \")\n",
        "day = float(day)\n",
        "print(day, type(day))"
      ],
      "metadata": {
        "colab": {
          "base_uri": "https://localhost:8080/"
        },
        "id": "rbIwNbjK9la3",
        "outputId": "91adf3ea-a22d-49ba-bbad-e5e0af97e31d"
      },
      "execution_count": null,
      "outputs": [
        {
          "output_type": "stream",
          "name": "stdout",
          "text": [
            "Enter day: 3\n",
            "3.0 <class 'float'>\n"
          ]
        }
      ]
    },
    {
      "cell_type": "markdown",
      "source": [
        "# Inventory management"
      ],
      "metadata": {
        "id": "YvX8NGUUmfha"
      }
    },
    {
      "cell_type": "code",
      "source": [
        "import math\n",
        "\n",
        "#Inputs\n",
        "demand = int(input(\"Enter demand (units/year): \"))\n",
        "reorder = float(input(\"Enter reorder cost ($/order): \"))\n",
        "holding = float(input(\"Enter holding cost ($/unit/year): \"))\n",
        "\n",
        "# Process\n",
        "eoq = (2*demand*reorder/holding) ** (1/2)\n",
        "\n",
        "# Output\n",
        "print(f\"EOQ: {eoq} units\")"
      ],
      "metadata": {
        "colab": {
          "base_uri": "https://localhost:8080/"
        },
        "id": "G8sEqAWyms3G",
        "outputId": "ea41893c-512d-47ec-e28b-de4d66480fa6"
      },
      "execution_count": null,
      "outputs": [
        {
          "output_type": "stream",
          "name": "stdout",
          "text": [
            "Enter demand (units/year): 1000\n",
            "Enter reorder cost ($/order): 50\n",
            "Enter holding cost ($/unit/year): 10\n",
            "EOQ: 100.0 units\n"
          ]
        }
      ]
    },
    {
      "cell_type": "markdown",
      "source": [
        "# 9/8 Class Notes\n"
      ],
      "metadata": {
        "id": "O8vEuPwtwM3V"
      }
    },
    {
      "cell_type": "code",
      "source": [
        "x=5\n",
        "\n",
        "if x>3:\n",
        "  print(\"x is greater than 3.\")\n",
        "\n",
        "  print(\"Press any key to continue...\")"
      ],
      "metadata": {
        "colab": {
          "base_uri": "https://localhost:8080/"
        },
        "id": "JKfVRe33wR_D",
        "outputId": "9480ff26-4692-4d4e-d14e-dcbe563e2f17"
      },
      "execution_count": null,
      "outputs": [
        {
          "output_type": "stream",
          "name": "stdout",
          "text": [
            "x is greater than 3.\n",
            "Press any key to continue...\n"
          ]
        }
      ]
    },
    {
      "cell_type": "code",
      "source": [
        "grade = 90\n",
        "\n",
        "if grade >= 90:\n",
        "  print(\"A\")\n",
        "else:\n",
        "  print(\"A-\")\n",
        "\n",
        "print(\"Goodbye...\")"
      ],
      "metadata": {
        "colab": {
          "base_uri": "https://localhost:8080/"
        },
        "id": "0ybxkkpcyh4O",
        "outputId": "8567866a-93be-47a2-b952-745cd09b3156"
      },
      "execution_count": null,
      "outputs": [
        {
          "output_type": "stream",
          "name": "stdout",
          "text": [
            "A\n",
            "Goodbye...\n"
          ]
        }
      ]
    },
    {
      "cell_type": "code",
      "source": [
        "grade = 90\n",
        "\n",
        "if grade >= 97:\n",
        "  print (\"A+\")\n",
        "elif grade >= 93:\n",
        "  print(\"A\")\n",
        "elif grade >= 90:\n",
        "  print(\"A-\")\n",
        "elif grade >= 88:\n",
        "  print(\"B+\")\n",
        "else:\n",
        "  print(\"B\")"
      ],
      "metadata": {
        "colab": {
          "base_uri": "https://localhost:8080/"
        },
        "id": "IiUpj_drzi1-",
        "outputId": "b65259b9-6615-403a-9c2d-6e7508d58fd9"
      },
      "execution_count": null,
      "outputs": [
        {
          "output_type": "stream",
          "name": "stdout",
          "text": [
            "A-\n"
          ]
        }
      ]
    },
    {
      "cell_type": "markdown",
      "source": [
        "# 9/10 class notes"
      ],
      "metadata": {
        "id": "-nkkDiRR92qu"
      }
    },
    {
      "cell_type": "code",
      "source": [
        "x= int(input('Enter a number:'))\n",
        "\n",
        "if x % 2 == 0:\n",
        "  if x % 3 == 0:\n",
        "    print(f\"{x} is divisible by both. \")\n",
        "  else:\n",
        "    print(f\"{x} is divisible by 2 but not by 3.\")\n",
        "elif x % 3 == 0:\n",
        "  print(f\"{x} is divisble by 3 but not by 2.\")\n",
        "else:\n",
        "  print(f\"{x} is divisible by none of them.\")"
      ],
      "metadata": {
        "colab": {
          "base_uri": "https://localhost:8080/"
        },
        "id": "6sgP_0gh9561",
        "outputId": "09d7c88d-221c-4311-bcd6-58779e35b48a"
      },
      "execution_count": null,
      "outputs": [
        {
          "output_type": "stream",
          "name": "stdout",
          "text": [
            "Enter a number:8\n",
            "8 is divisible by 2 but not by 3.\n"
          ]
        }
      ]
    },
    {
      "cell_type": "code",
      "source": [
        "x = int(input('Enter a number:'))\n",
        "\n",
        "if x % 2 == 0 and x % 3 == 0:\n",
        "  print (f\"{x} is divisible by both.\")\n",
        "elif x % 2 == 0 and x % 3 != 0:\n",
        "  print(f\"{x} is divisible by 2 only.\")\n",
        "elif x % 3 == 0 and x % 2 !=0:\n",
        "  print(f\"{x} is divisible by 3 only.\")\n",
        "else:\n",
        "  print(f\"{x} is divisible by none of them.\")"
      ],
      "metadata": {
        "colab": {
          "base_uri": "https://localhost:8080/"
        },
        "id": "Nka1bL7fE-Wq",
        "outputId": "2fbc2ba8-24d8-4561-f93e-6e5e93db160e"
      },
      "execution_count": null,
      "outputs": [
        {
          "output_type": "stream",
          "name": "stdout",
          "text": [
            "Enter a number:9\n",
            "9 is divisible by 3 only.\n"
          ]
        }
      ]
    },
    {
      "cell_type": "code",
      "source": [
        "x = int(input('Enter a number:'))\n",
        "\n",
        "print('Even' if x % 2 == 0 else 'Odd')\n"
      ],
      "metadata": {
        "id": "305YEQFMJYS5"
      },
      "execution_count": null,
      "outputs": []
    },
    {
      "cell_type": "markdown",
      "source": [
        "# Numerical calculator\n"
      ],
      "metadata": {
        "id": "9X29ZaJqp0d3"
      }
    },
    {
      "cell_type": "markdown",
      "source": [
        "# Design a simple numerical calculator in Python. The user needs to provide three inputs: two numbers and the mathematical operator of their choice. The program should print the output on the screen.\n"
      ],
      "metadata": {
        "id": "sZ49-Z2BqNs0"
      }
    },
    {
      "cell_type": "code",
      "source": [
        "n1 = float(input(\"Enter number 1: \"))\n",
        "n2 = float(input(\"Enter number 2:\"))\n",
        "op = input(\"Enter operator (+,-,*,/,//,%,**)\")\n",
        "\n",
        "if op == '+':\n",
        "  res = n1 + n2\n",
        "elif op == \"-\":\n",
        "  res = n1 - n2\n",
        "elif op == \"*\":\n",
        "  res = n1 * n2\n",
        "elif op == \"/\":\n",
        "  res = n1 / n2\n",
        "elif op == \"//\":\n",
        "  res = n1 // n2\n",
        "elif op == \"**\":\n",
        "  res = n1 ** n2\n",
        "elif op == \"%\":\n",
        "  res = n1 % n2\n",
        "else:\n",
        "  res = None\n",
        "  print(f\"Invalid operator\")\n",
        "\n",
        "print(f\"result = {res}\")"
      ],
      "metadata": {
        "colab": {
          "base_uri": "https://localhost:8080/"
        },
        "id": "jLeO3E78qxMY",
        "outputId": "d3cbb22a-30ff-4804-a71b-5e3b8f0f11b8"
      },
      "execution_count": null,
      "outputs": [
        {
          "output_type": "stream",
          "name": "stdout",
          "text": [
            "Enter number 1: 5\n",
            "Enter number 2:2\n",
            "Enter operator (+,-,*,/,//,%,**)**\n",
            "result = 25.0\n"
          ]
        }
      ]
    },
    {
      "cell_type": "markdown",
      "source": [
        "# 9/15"
      ],
      "metadata": {
        "id": "7DfAHJRRyaa2"
      }
    },
    {
      "cell_type": "code",
      "source": [
        "from ColabTurtlePlus.Turtle import *\n",
        "# setting up the screen commands\n",
        "clearscreen ()\n",
        "reset = True\n",
        "clear()\n",
        "\n",
        "#initialize drawing process\n",
        "color('black, 'green')\n",
        "jumpto(0,0)\n",
        "\n",
        "for _ in range(4):\n",
        "  forward(100)\n",
        "  left(90)\n"
      ],
      "metadata": {
        "colab": {
          "base_uri": "https://localhost:8080/",
          "height": 106
        },
        "id": "qiV3GHd7qVDa",
        "outputId": "1f3ca98e-610f-4e15-894f-12404f6a674f"
      },
      "execution_count": null,
      "outputs": [
        {
          "output_type": "error",
          "ename": "SyntaxError",
          "evalue": "unterminated string literal (detected at line 8) (ipython-input-3287394597.py, line 8)",
          "traceback": [
            "\u001b[0;36m  File \u001b[0;32m\"/tmp/ipython-input-3287394597.py\"\u001b[0;36m, line \u001b[0;32m8\u001b[0m\n\u001b[0;31m    color('black, 'green')\u001b[0m\n\u001b[0m                        ^\u001b[0m\n\u001b[0;31mSyntaxError\u001b[0m\u001b[0;31m:\u001b[0m unterminated string literal (detected at line 8)\n"
          ]
        }
      ]
    },
    {
      "cell_type": "code",
      "source": [
        "for num in range(0,11):\n",
        "  print num"
      ],
      "metadata": {
        "colab": {
          "base_uri": "https://localhost:8080/",
          "height": 106
        },
        "id": "lCYGj2Pi5pQr",
        "outputId": "313e964b-fc34-471b-fabb-c69b72fb0b18"
      },
      "execution_count": null,
      "outputs": [
        {
          "output_type": "error",
          "ename": "SyntaxError",
          "evalue": "Missing parentheses in call to 'print'. Did you mean print(...)? (ipython-input-3568970596.py, line 2)",
          "traceback": [
            "\u001b[0;36m  File \u001b[0;32m\"/tmp/ipython-input-3568970596.py\"\u001b[0;36m, line \u001b[0;32m2\u001b[0m\n\u001b[0;31m    print num\u001b[0m\n\u001b[0m    ^\u001b[0m\n\u001b[0;31mSyntaxError\u001b[0m\u001b[0;31m:\u001b[0m Missing parentheses in call to 'print'. Did you mean print(...)?\n"
          ]
        }
      ]
    },
    {
      "cell_type": "markdown",
      "source": [
        "# 9/17"
      ],
      "metadata": {
        "id": "rF0q41LR99Wp"
      }
    },
    {
      "cell_type": "markdown",
      "source": [
        "A parking garage charges $5 plus $2.50 for eacg hour parked.\n",
        "\n",
        "Write a program that prints the number of hours parked and the corresponding fee side by side, from 1 to 8 hours.\n",
        "\n",
        "Example output:\n",
        "1 7.5\n",
        "2 10.0\n",
        "3 12.5\n",
        "4 15.0\n",
        "5 17.50\n",
        "6 20.0\n",
        "7 22.5\n",
        "8 25.0\n",
        "\n",
        "Bonus: The minimum fee is $10 and the maximum fee is $20"
      ],
      "metadata": {
        "id": "AVMJ3iIp-CUL"
      }
    },
    {
      "cell_type": "code",
      "source": [
        "for hour in range (1,9):\n",
        "  fee = 5 + 2.5 * hour\n",
        "\n",
        "  if fee < 10:\n",
        "    fee = 10.0\n",
        "  elif fee > 20:\n",
        "    fee = 20.0\n",
        "  print(hour, fee)\n",
        "\n",
        "\n"
      ],
      "metadata": {
        "colab": {
          "base_uri": "https://localhost:8080/"
        },
        "id": "8tVmL-dj-AuH",
        "outputId": "757fd9e8-5c29-4af9-ac3a-544203e4ea51"
      },
      "execution_count": null,
      "outputs": [
        {
          "output_type": "stream",
          "name": "stdout",
          "text": [
            "1 10.0\n",
            "2 10.0\n",
            "3 12.5\n",
            "4 15.0\n",
            "5 17.5\n",
            "6 20.0\n",
            "7 20.0\n",
            "8 20.0\n"
          ]
        }
      ]
    },
    {
      "cell_type": "code",
      "source": [
        "for number in range(1,4):\n",
        "  print(number, number ** 2)"
      ],
      "metadata": {
        "colab": {
          "base_uri": "https://localhost:8080/"
        },
        "id": "djcp8rOYGuqh",
        "outputId": "96ab713a-3451-450d-f4cf-5d2adedd7892"
      },
      "execution_count": null,
      "outputs": [
        {
          "output_type": "stream",
          "name": "stdout",
          "text": [
            "1 1\n",
            "2 4\n",
            "3 9\n"
          ]
        }
      ]
    },
    {
      "cell_type": "code",
      "source": [
        "number = 1\n",
        "while number < 4:\n",
        "  print (number, number **2)\n",
        "  number = number + 1"
      ],
      "metadata": {
        "colab": {
          "base_uri": "https://localhost:8080/"
        },
        "id": "1lJPMZTFG-EI",
        "outputId": "112f685b-b6cf-4221-b29b-63ac0bfa3ea0"
      },
      "execution_count": null,
      "outputs": [
        {
          "output_type": "stream",
          "name": "stdout",
          "text": [
            "1 1\n",
            "2 4\n",
            "3 9\n"
          ]
        }
      ]
    },
    {
      "cell_type": "code",
      "source": [
        "number = float(input(\"Give a number: \"))\n",
        "while number != 0:\n",
        "  print(number)\n",
        "  number = float(input(\"Give another number: \"))"
      ],
      "metadata": {
        "colab": {
          "base_uri": "https://localhost:8080/",
          "height": 506
        },
        "id": "N8GR1X1bJa4T",
        "outputId": "a24ece19-059b-4df7-9efe-54f2b4342069"
      },
      "execution_count": null,
      "outputs": [
        {
          "name": "stdout",
          "output_type": "stream",
          "text": [
            "Give a number: 5\n",
            "5.0\n",
            "Give another number: -9\n",
            "-9.0\n",
            "Give another number: 5\n",
            "5.0\n",
            "Give another number: 5\n",
            "5.0\n",
            "Give another number: 5\n",
            "5.0\n",
            "Give another number: 5\n",
            "5.0\n",
            "Give another number: 5\n",
            "5.0\n",
            "Give another number: 5\n",
            "5.0\n",
            "Give another number: 5\n",
            "5.0\n",
            "Give another number: \n"
          ]
        },
        {
          "output_type": "error",
          "ename": "ValueError",
          "evalue": "could not convert string to float: ''",
          "traceback": [
            "\u001b[0;31m---------------------------------------------------------------------------\u001b[0m",
            "\u001b[0;31mValueError\u001b[0m                                Traceback (most recent call last)",
            "\u001b[0;32m/tmp/ipython-input-1437951143.py\u001b[0m in \u001b[0;36m<cell line: 0>\u001b[0;34m()\u001b[0m\n\u001b[1;32m      2\u001b[0m \u001b[0;32mwhile\u001b[0m \u001b[0mnumber\u001b[0m \u001b[0;34m!=\u001b[0m \u001b[0;36m0\u001b[0m\u001b[0;34m:\u001b[0m\u001b[0;34m\u001b[0m\u001b[0;34m\u001b[0m\u001b[0m\n\u001b[1;32m      3\u001b[0m   \u001b[0mprint\u001b[0m\u001b[0;34m(\u001b[0m\u001b[0mnumber\u001b[0m\u001b[0;34m)\u001b[0m\u001b[0;34m\u001b[0m\u001b[0;34m\u001b[0m\u001b[0m\n\u001b[0;32m----> 4\u001b[0;31m   \u001b[0mnumber\u001b[0m \u001b[0;34m=\u001b[0m \u001b[0mfloat\u001b[0m\u001b[0;34m(\u001b[0m\u001b[0minput\u001b[0m\u001b[0;34m(\u001b[0m\u001b[0;34m\"Give another number: \"\u001b[0m\u001b[0;34m)\u001b[0m\u001b[0;34m)\u001b[0m\u001b[0;34m\u001b[0m\u001b[0;34m\u001b[0m\u001b[0m\n\u001b[0m",
            "\u001b[0;31mValueError\u001b[0m: could not convert string to float: ''"
          ]
        }
      ]
    },
    {
      "cell_type": "code",
      "source": [
        "for number in range(10):\n",
        "   if number % 2 != 0:\n",
        "    continue\n",
        "\n",
        "    print(number)\n"
      ],
      "metadata": {
        "id": "nS71dsmqLufq"
      },
      "execution_count": null,
      "outputs": []
    },
    {
      "cell_type": "code",
      "source": [
        "for i in range (100000000000000):\n",
        "  if i == 3:\n",
        "    break\n",
        "  print (i)"
      ],
      "metadata": {
        "colab": {
          "base_uri": "https://localhost:8080/"
        },
        "id": "_oHxXRp5Mcc3",
        "outputId": "2e65f4cd-6d05-4bc2-ed9e-ee8e2a2754bc"
      },
      "execution_count": null,
      "outputs": [
        {
          "output_type": "stream",
          "name": "stdout",
          "text": [
            "0\n",
            "1\n",
            "2\n"
          ]
        }
      ]
    },
    {
      "cell_type": "markdown",
      "source": [
        "# 9/22"
      ],
      "metadata": {
        "id": "BKjstDlKs45M"
      }
    },
    {
      "cell_type": "markdown",
      "source": [
        "A movie theater manager is deciding how much to spend on advertisising for an upcoming movie. Each ticket is $10. Without any advertising, 20 people are forecasted to attend. Additional people may attend based on advertising spending, estimated to be:\n",
        "  Additional attendees = 2 x advertisingDollars^1/2\n",
        "In addition to advertising costs, there are fixed costs to run the theater of $200\n",
        "\n",
        "Write a program to generate a table for different advertising amounts and profits. Example output(may differ slightly from your results):"
      ],
      "metadata": {
        "id": "Gxcn-rBGs_p8"
      }
    },
    {
      "cell_type": "code",
      "source": [
        "print(\"Ad ($) Profit ($)\")\n",
        "for ad in range(0,201,25):\n",
        "  revenue = (20 + 2 * ad ** 0.5) * 10\n",
        "  costs = 200 + ad\n",
        "  profit = revenue - costs\n",
        "  print(f\"{ad}, \\t {round(profit)}\")"
      ],
      "metadata": {
        "colab": {
          "base_uri": "https://localhost:8080/"
        },
        "id": "4B3gl-IFtsmF",
        "outputId": "0f0ec532-d502-4644-b8d3-92d45d7eaf0f"
      },
      "execution_count": null,
      "outputs": [
        {
          "output_type": "stream",
          "name": "stdout",
          "text": [
            "Ad ($) Profit ($)\n",
            "0, \t 0\n",
            "25, \t 75\n",
            "50, \t 91\n",
            "75, \t 98\n",
            "100, \t 100\n",
            "125, \t 99\n",
            "150, \t 95\n",
            "175, \t 90\n",
            "200, \t 83\n"
          ]
        }
      ]
    },
    {
      "cell_type": "markdown",
      "source": [
        "ch.3 / lecture 3"
      ],
      "metadata": {
        "id": "0M_uTtVKzYvm"
      }
    },
    {
      "cell_type": "code",
      "source": [
        "phrase = \"This is a string\""
      ],
      "metadata": {
        "id": "nfrhChK72BLe"
      },
      "execution_count": null,
      "outputs": []
    },
    {
      "cell_type": "code",
      "source": [
        "len(phrase)"
      ],
      "metadata": {
        "colab": {
          "base_uri": "https://localhost:8080/"
        },
        "id": "vLcz_DbQzbbh",
        "outputId": "22e5be8b-872c-4a2e-d100-99abcb3136f2"
      },
      "execution_count": null,
      "outputs": [
        {
          "output_type": "execute_result",
          "data": {
            "text/plain": [
              "16"
            ]
          },
          "metadata": {},
          "execution_count": 5
        }
      ]
    },
    {
      "cell_type": "code",
      "source": [
        "phrase[5]"
      ],
      "metadata": {
        "colab": {
          "base_uri": "https://localhost:8080/",
          "height": 35
        },
        "id": "yS8j_OqJ2WYb",
        "outputId": "bc99de1b-ba0c-4e46-8fdb-c1f33fa5603b"
      },
      "execution_count": null,
      "outputs": [
        {
          "output_type": "execute_result",
          "data": {
            "text/plain": [
              "'i'"
            ],
            "application/vnd.google.colaboratory.intrinsic+json": {
              "type": "string"
            }
          },
          "metadata": {},
          "execution_count": 6
        }
      ]
    },
    {
      "cell_type": "code",
      "source": [
        "s = phrase[:7]\n",
        "print(phrase)"
      ],
      "metadata": {
        "colab": {
          "base_uri": "https://localhost:8080/"
        },
        "id": "mBXil7yT3T-4",
        "outputId": "b1e0dd3b-71c5-4e91-c007-33548d9dbefc"
      },
      "execution_count": null,
      "outputs": [
        {
          "output_type": "stream",
          "name": "stdout",
          "text": [
            "This is a string\n"
          ]
        }
      ]
    },
    {
      "cell_type": "code",
      "source": [
        "phrase[0:4]"
      ],
      "metadata": {
        "colab": {
          "base_uri": "https://localhost:8080/",
          "height": 35
        },
        "id": "gPz1qNTX4ZxV",
        "outputId": "da3060c0-5b15-4128-89ef-e90441221501"
      },
      "execution_count": null,
      "outputs": [
        {
          "output_type": "execute_result",
          "data": {
            "text/plain": [
              "'This'"
            ],
            "application/vnd.google.colaboratory.intrinsic+json": {
              "type": "string"
            }
          },
          "metadata": {},
          "execution_count": 8
        }
      ]
    },
    {
      "cell_type": "code",
      "source": [
        "phrase[:4]"
      ],
      "metadata": {
        "colab": {
          "base_uri": "https://localhost:8080/",
          "height": 35
        },
        "id": "YXKY12He4lv8",
        "outputId": "ae3f7fb9-98e4-4c8b-d256-bce04f323dd0"
      },
      "execution_count": null,
      "outputs": [
        {
          "output_type": "execute_result",
          "data": {
            "text/plain": [
              "'This'"
            ],
            "application/vnd.google.colaboratory.intrinsic+json": {
              "type": "string"
            }
          },
          "metadata": {},
          "execution_count": 9
        }
      ]
    },
    {
      "cell_type": "code",
      "source": [
        "phrase[10:16]"
      ],
      "metadata": {
        "colab": {
          "base_uri": "https://localhost:8080/",
          "height": 35
        },
        "id": "llgIz3ZC49qm",
        "outputId": "50125977-96f5-43c2-f272-5bce466f40fd"
      },
      "execution_count": null,
      "outputs": [
        {
          "output_type": "execute_result",
          "data": {
            "text/plain": [
              "'string'"
            ],
            "application/vnd.google.colaboratory.intrinsic+json": {
              "type": "string"
            }
          },
          "metadata": {},
          "execution_count": 10
        }
      ]
    },
    {
      "cell_type": "code",
      "source": [
        "phrase[:]"
      ],
      "metadata": {
        "colab": {
          "base_uri": "https://localhost:8080/",
          "height": 35
        },
        "id": "mzLrtjyu5KA0",
        "outputId": "63fc7e8c-a0a2-4e50-c9c0-d768e6c778ae"
      },
      "execution_count": null,
      "outputs": [
        {
          "output_type": "execute_result",
          "data": {
            "text/plain": [
              "'This is a string'"
            ],
            "application/vnd.google.colaboratory.intrinsic+json": {
              "type": "string"
            }
          },
          "metadata": {},
          "execution_count": 11
        }
      ]
    },
    {
      "cell_type": "code",
      "source": [
        "phrase[:] == phrase[0:16] == phrase[0:len(phrase)] == phrase"
      ],
      "metadata": {
        "colab": {
          "base_uri": "https://localhost:8080/"
        },
        "id": "eqDEoJXE5Jr5",
        "outputId": "bcf2d294-279b-420e-883f-d165405ab4ef"
      },
      "execution_count": null,
      "outputs": [
        {
          "output_type": "execute_result",
          "data": {
            "text/plain": [
              "True"
            ]
          },
          "metadata": {},
          "execution_count": 13
        }
      ]
    },
    {
      "cell_type": "code",
      "source": [
        "phrase[3] = 'b'"
      ],
      "metadata": {
        "colab": {
          "base_uri": "https://localhost:8080/",
          "height": 141
        },
        "id": "diXk7Jbf57n0",
        "outputId": "f00a9951-d3cd-471b-a9be-1ad89d003382"
      },
      "execution_count": null,
      "outputs": [
        {
          "output_type": "error",
          "ename": "TypeError",
          "evalue": "'str' object does not support item assignment",
          "traceback": [
            "\u001b[0;31m---------------------------------------------------------------------------\u001b[0m",
            "\u001b[0;31mTypeError\u001b[0m                                 Traceback (most recent call last)",
            "\u001b[0;32m/tmp/ipython-input-2750531433.py\u001b[0m in \u001b[0;36m<cell line: 0>\u001b[0;34m()\u001b[0m\n\u001b[0;32m----> 1\u001b[0;31m \u001b[0mphrase\u001b[0m\u001b[0;34m[\u001b[0m\u001b[0;36m3\u001b[0m\u001b[0;34m]\u001b[0m \u001b[0;34m=\u001b[0m \u001b[0;34m'b'\u001b[0m\u001b[0;34m\u001b[0m\u001b[0;34m\u001b[0m\u001b[0m\n\u001b[0m",
            "\u001b[0;31mTypeError\u001b[0m: 'str' object does not support item assignment"
          ]
        }
      ]
    },
    {
      "cell_type": "code",
      "source": [
        "'Hello' + 'there'"
      ],
      "metadata": {
        "colab": {
          "base_uri": "https://localhost:8080/",
          "height": 35
        },
        "id": "fRQJ1Ucs6Q7E",
        "outputId": "454c99d3-6c98-4be3-ca22-f18220d75a27"
      },
      "execution_count": null,
      "outputs": [
        {
          "output_type": "execute_result",
          "data": {
            "text/plain": [
              "'Hellothere'"
            ],
            "application/vnd.google.colaboratory.intrinsic+json": {
              "type": "string"
            }
          },
          "metadata": {},
          "execution_count": 15
        }
      ]
    },
    {
      "cell_type": "code",
      "source": [
        "3 * 'a'"
      ],
      "metadata": {
        "colab": {
          "base_uri": "https://localhost:8080/",
          "height": 35
        },
        "id": "obUL9JgP7J3j",
        "outputId": "55495f4e-2638-4074-ccfa-ae294930f090"
      },
      "execution_count": null,
      "outputs": [
        {
          "output_type": "execute_result",
          "data": {
            "text/plain": [
              "'aaa'"
            ],
            "application/vnd.google.colaboratory.intrinsic+json": {
              "type": "string"
            }
          },
          "metadata": {},
          "execution_count": 16
        }
      ]
    },
    {
      "cell_type": "code",
      "source": [
        "3 * 'abc'"
      ],
      "metadata": {
        "colab": {
          "base_uri": "https://localhost:8080/",
          "height": 35
        },
        "id": "WpuPrACN7eY0",
        "outputId": "0f91d7c9-6232-479a-f899-342e0f690027"
      },
      "execution_count": null,
      "outputs": [
        {
          "output_type": "execute_result",
          "data": {
            "text/plain": [
              "'abcabcabc'"
            ],
            "application/vnd.google.colaboratory.intrinsic+json": {
              "type": "string"
            }
          },
          "metadata": {},
          "execution_count": 18
        }
      ]
    },
    {
      "cell_type": "code",
      "source": [
        "s = \"\"\n",
        "len(s)"
      ],
      "metadata": {
        "colab": {
          "base_uri": "https://localhost:8080/"
        },
        "id": "p6JqE1ggEifp",
        "outputId": "23277927-40a4-465e-860f-92c783a8e7ad"
      },
      "execution_count": null,
      "outputs": [
        {
          "output_type": "execute_result",
          "data": {
            "text/plain": [
              "0"
            ]
          },
          "metadata": {},
          "execution_count": 1
        }
      ]
    },
    {
      "cell_type": "code",
      "source": [
        "L = []\n",
        "len(L)"
      ],
      "metadata": {
        "colab": {
          "base_uri": "https://localhost:8080/"
        },
        "id": "c18Ar_L-ElPX",
        "outputId": "37bfcb20-4462-4fca-f7e4-87710c7a7486"
      },
      "execution_count": null,
      "outputs": [
        {
          "output_type": "execute_result",
          "data": {
            "text/plain": [
              "0"
            ]
          },
          "metadata": {},
          "execution_count": 2
        }
      ]
    },
    {
      "cell_type": "code",
      "source": [
        "L = [1,2,3,4,5]"
      ],
      "metadata": {
        "id": "b6S3JKXmEpyU"
      },
      "execution_count": null,
      "outputs": []
    },
    {
      "cell_type": "code",
      "source": [
        "L[3]"
      ],
      "metadata": {
        "colab": {
          "base_uri": "https://localhost:8080/"
        },
        "id": "HvBUlDkDFJ5m",
        "outputId": "d00f6695-98f4-4a5d-ad43-16806ae3bd2e"
      },
      "execution_count": null,
      "outputs": [
        {
          "output_type": "execute_result",
          "data": {
            "text/plain": [
              "4"
            ]
          },
          "metadata": {},
          "execution_count": 4
        }
      ]
    },
    {
      "cell_type": "code",
      "source": [
        "L[1:4]"
      ],
      "metadata": {
        "colab": {
          "base_uri": "https://localhost:8080/"
        },
        "id": "2jilYPgrFRFN",
        "outputId": "d41baacc-0027-4164-f8ff-6ce74024d43a"
      },
      "execution_count": null,
      "outputs": [
        {
          "output_type": "execute_result",
          "data": {
            "text/plain": [
              "[2, 3, 4]"
            ]
          },
          "metadata": {},
          "execution_count": 5
        }
      ]
    },
    {
      "cell_type": "code",
      "source": [
        "[1,2,3] + ['one','two', 'three']"
      ],
      "metadata": {
        "colab": {
          "base_uri": "https://localhost:8080/"
        },
        "id": "1vv__8_QFd6o",
        "outputId": "a8cbaf00-87d1-405d-b0ab-9233d6ef63fd"
      },
      "execution_count": null,
      "outputs": [
        {
          "output_type": "execute_result",
          "data": {
            "text/plain": [
              "[1, 2, 3, 'one', 'two', 'three']"
            ]
          },
          "metadata": {},
          "execution_count": 6
        }
      ]
    },
    {
      "cell_type": "code",
      "source": [
        "3 * [1,2]"
      ],
      "metadata": {
        "colab": {
          "base_uri": "https://localhost:8080/"
        },
        "id": "9WTFtmJpFkxD",
        "outputId": "cafcf7ce-f6ec-466c-a9ba-71f5dfcf5ad9"
      },
      "execution_count": null,
      "outputs": [
        {
          "output_type": "execute_result",
          "data": {
            "text/plain": [
              "[1, 2, 1, 2, 1, 2]"
            ]
          },
          "metadata": {},
          "execution_count": 7
        }
      ]
    },
    {
      "cell_type": "code",
      "source": [
        "s = 'abc123'"
      ],
      "metadata": {
        "id": "OVpPXszdF4b3"
      },
      "execution_count": null,
      "outputs": []
    },
    {
      "cell_type": "code",
      "source": [
        "L[2] = 6\n",
        "print(L)"
      ],
      "metadata": {
        "colab": {
          "base_uri": "https://localhost:8080/"
        },
        "id": "gqyv-If5F7aX",
        "outputId": "43349553-722b-4381-800d-1634c558598c"
      },
      "execution_count": null,
      "outputs": [
        {
          "output_type": "stream",
          "name": "stdout",
          "text": [
            "[1, 2, 6, 4, 5]\n"
          ]
        }
      ]
    },
    {
      "cell_type": "code",
      "source": [
        "L = [1, 'two', 3.14, [4,5,6], print, len]\n",
        "len(L)"
      ],
      "metadata": {
        "colab": {
          "base_uri": "https://localhost:8080/"
        },
        "id": "rL5hPcfrGhju",
        "outputId": "20413acf-df0c-41d4-a579-2eaa748b98cd"
      },
      "execution_count": null,
      "outputs": [
        {
          "output_type": "execute_result",
          "data": {
            "text/plain": [
              "6"
            ]
          },
          "metadata": {},
          "execution_count": 10
        }
      ]
    },
    {
      "cell_type": "code",
      "source": [
        "\".....{}...{}...\" . format(a,b)"
      ],
      "metadata": {
        "id": "fd474w7tHO4b"
      },
      "execution_count": null,
      "outputs": []
    },
    {
      "cell_type": "code",
      "source": [
        "print(L)"
      ],
      "metadata": {
        "colab": {
          "base_uri": "https://localhost:8080/"
        },
        "id": "V0MInwn8HX2h",
        "outputId": "bdae1983-a904-4d2c-b339-88c67b199bda"
      },
      "execution_count": null,
      "outputs": [
        {
          "output_type": "stream",
          "name": "stdout",
          "text": [
            "[1, 'two', 3.14, [4, 5, 6], <built-in function print>, <built-in function len>]\n"
          ]
        }
      ]
    },
    {
      "cell_type": "code",
      "source": [
        "L.append(3.0)"
      ],
      "metadata": {
        "id": "WzBf8ARVIKj5"
      },
      "execution_count": null,
      "outputs": []
    },
    {
      "cell_type": "code",
      "source": [
        "print(L)"
      ],
      "metadata": {
        "colab": {
          "base_uri": "https://localhost:8080/"
        },
        "id": "BLBui9aeIbzT",
        "outputId": "7f3f3c6c-6034-49c2-f990-a2a68ec9ff21"
      },
      "execution_count": null,
      "outputs": [
        {
          "output_type": "stream",
          "name": "stdout",
          "text": [
            "[1, 'two', 3.14, [4, 5, 6], <built-in function print>, <built-in function len>, 3.0, 3.0]\n"
          ]
        }
      ]
    },
    {
      "cell_type": "code",
      "source": [
        "L.append('abc')"
      ],
      "metadata": {
        "id": "A5UxsW29JGFG"
      },
      "execution_count": null,
      "outputs": []
    },
    {
      "cell_type": "code",
      "source": [
        "print(L)"
      ],
      "metadata": {
        "colab": {
          "base_uri": "https://localhost:8080/"
        },
        "id": "wFOHPlNjJJK9",
        "outputId": "3bc6743a-802c-4a6f-af64-8253d54600f3"
      },
      "execution_count": null,
      "outputs": [
        {
          "output_type": "stream",
          "name": "stdout",
          "text": [
            "[1, 'two', 3.14, [4, 5, 6], <built-in function print>, <built-in function len>, 3.0, 3.0, 3.0, 'abc']\n"
          ]
        }
      ]
    },
    {
      "cell_type": "code",
      "source": [
        "L.extend('abc')\n",
        "print(L)"
      ],
      "metadata": {
        "colab": {
          "base_uri": "https://localhost:8080/"
        },
        "id": "G3ZI5GkZJL4W",
        "outputId": "03f3d15b-154b-4a56-efde-5da6653bdfd8"
      },
      "execution_count": null,
      "outputs": [
        {
          "output_type": "stream",
          "name": "stdout",
          "text": [
            "[1, 'two', 3.14, [4, 5, 6], <built-in function print>, <built-in function len>, 3.0, 3.0, 3.0, 'abc', 'a', 'b', 'c']\n"
          ]
        }
      ]
    },
    {
      "cell_type": "code",
      "source": [
        "L.pop(5)\n",
        "print(L)"
      ],
      "metadata": {
        "colab": {
          "base_uri": "https://localhost:8080/"
        },
        "id": "hHRqbYc3KZko",
        "outputId": "5cdf5ee6-c728-47bb-a262-f1b95310d08a"
      },
      "execution_count": null,
      "outputs": [
        {
          "output_type": "stream",
          "name": "stdout",
          "text": [
            "[1, 'two', 3.14, [4, 5, 6], <built-in function print>, 3.0, 3.0, 3.0, 'abc', 'a', 'b', 'c']\n"
          ]
        }
      ]
    },
    {
      "cell_type": "code",
      "source": [
        "L = [5,8,0,1,6,2]\n",
        "L.sort(reverse=True)\n",
        "print(L)"
      ],
      "metadata": {
        "colab": {
          "base_uri": "https://localhost:8080/"
        },
        "id": "S_ybmDPdLuAD",
        "outputId": "0a83b72c-efe4-4f0f-9319-8179c42c03df"
      },
      "execution_count": null,
      "outputs": [
        {
          "output_type": "stream",
          "name": "stdout",
          "text": [
            "[8, 6, 5, 2, 1, 0]\n"
          ]
        }
      ]
    },
    {
      "cell_type": "code",
      "source": [
        "Ls = ['bob', 'alice', 'eve']\n",
        "Ls.sort()\n",
        "print(Ls)"
      ],
      "metadata": {
        "colab": {
          "base_uri": "https://localhost:8080/"
        },
        "id": "C11nCZxxMGUD",
        "outputId": "eafc647a-3cb0-4d40-b4a8-2a7b758ae0a0"
      },
      "execution_count": null,
      "outputs": [
        {
          "output_type": "stream",
          "name": "stdout",
          "text": [
            "['alice', 'bob', 'eve']\n"
          ]
        }
      ]
    },
    {
      "cell_type": "code",
      "source": [
        "L = [5,8, 'two', 'three', 1]\n",
        "L.sort()"
      ],
      "metadata": {
        "colab": {
          "base_uri": "https://localhost:8080/",
          "height": 158
        },
        "id": "NCrtXMJ5Mt8U",
        "outputId": "0bee7dc6-f61d-433c-ad8c-e58508a37a06"
      },
      "execution_count": null,
      "outputs": [
        {
          "output_type": "error",
          "ename": "TypeError",
          "evalue": "'<' not supported between instances of 'str' and 'int'",
          "traceback": [
            "\u001b[0;31m---------------------------------------------------------------------------\u001b[0m",
            "\u001b[0;31mTypeError\u001b[0m                                 Traceback (most recent call last)",
            "\u001b[0;32m/tmp/ipython-input-3100173808.py\u001b[0m in \u001b[0;36m<cell line: 0>\u001b[0;34m()\u001b[0m\n\u001b[1;32m      1\u001b[0m \u001b[0mL\u001b[0m \u001b[0;34m=\u001b[0m \u001b[0;34m[\u001b[0m\u001b[0;36m5\u001b[0m\u001b[0;34m,\u001b[0m\u001b[0;36m8\u001b[0m\u001b[0;34m,\u001b[0m \u001b[0;34m'two'\u001b[0m\u001b[0;34m,\u001b[0m \u001b[0;34m'three'\u001b[0m\u001b[0;34m,\u001b[0m \u001b[0;36m1\u001b[0m\u001b[0;34m]\u001b[0m\u001b[0;34m\u001b[0m\u001b[0;34m\u001b[0m\u001b[0m\n\u001b[0;32m----> 2\u001b[0;31m \u001b[0mL\u001b[0m\u001b[0;34m.\u001b[0m\u001b[0msort\u001b[0m\u001b[0;34m(\u001b[0m\u001b[0;34m)\u001b[0m\u001b[0;34m\u001b[0m\u001b[0;34m\u001b[0m\u001b[0m\n\u001b[0m",
            "\u001b[0;31mTypeError\u001b[0m: '<' not supported between instances of 'str' and 'int'"
          ]
        }
      ]
    },
    {
      "cell_type": "markdown",
      "source": [
        "Append items to list iteratively (while loop)\n",
        "- starting with an empty list, desgin a program in python that populates the list by repeatedly asking the user for nurmerical inputs. The process stops when the user gives 0. Finally, the list should be displayed in descending order."
      ],
      "metadata": {
        "id": "PCeEV799NetE"
      }
    },
    {
      "cell_type": "code",
      "source": [
        "numbers = []\n",
        "num = float(input(\"Give a number: \"))\n",
        "\n",
        "while num != 0:\n",
        "  numbers.append(num)\n",
        "  num = float(input(\"Give another number: \"))\n",
        "\n",
        "numbers.sort(reverse=True)\n",
        "print(numbers)\n"
      ],
      "metadata": {
        "colab": {
          "base_uri": "https://localhost:8080/"
        },
        "id": "Ovj8VP7UN_fT",
        "outputId": "1ccb3b3d-9412-44ce-f423-9bcc0c94dcd7"
      },
      "execution_count": null,
      "outputs": [
        {
          "output_type": "stream",
          "name": "stdout",
          "text": [
            "Give a number: 5\n",
            "Give another number: 8\n",
            "Give another number: 6\n",
            "Give another number: 2\n",
            "Give another number: 0\n",
            "[8.0, 6.0, 5.0, 2.0]\n"
          ]
        }
      ]
    },
    {
      "cell_type": "markdown",
      "source": [
        "# 9/29 notes"
      ],
      "metadata": {
        "id": "cd4J5hhbx5Kp"
      }
    },
    {
      "cell_type": "code",
      "source": [
        "L = [10.0,9.9,10.1,10.05]"
      ],
      "metadata": {
        "id": "OFXUvgBPx8sM"
      },
      "execution_count": null,
      "outputs": []
    },
    {
      "cell_type": "code",
      "source": [
        "max(L)"
      ],
      "metadata": {
        "colab": {
          "base_uri": "https://localhost:8080/"
        },
        "id": "K4ruYPXSyBvn",
        "outputId": "4c14b142-7296-4d1e-d530-a46ed277478d"
      },
      "execution_count": null,
      "outputs": [
        {
          "output_type": "execute_result",
          "data": {
            "text/plain": [
              "10.1"
            ]
          },
          "metadata": {},
          "execution_count": 2
        }
      ]
    },
    {
      "cell_type": "code",
      "source": [
        "sum(L)"
      ],
      "metadata": {
        "colab": {
          "base_uri": "https://localhost:8080/"
        },
        "id": "4sas6HMPzBz8",
        "outputId": "0aa6ef48-7da4-401a-a19d-0b9baed42ef5"
      },
      "execution_count": null,
      "outputs": [
        {
          "output_type": "execute_result",
          "data": {
            "text/plain": [
              "40.05"
            ]
          },
          "metadata": {},
          "execution_count": 10
        }
      ]
    },
    {
      "cell_type": "code",
      "source": [
        "sum(L)/ len(L)"
      ],
      "metadata": {
        "colab": {
          "base_uri": "https://localhost:8080/"
        },
        "id": "uqKNUts3yEKI",
        "outputId": "adcdc212-917b-4062-8bdd-8d27d15e0760"
      },
      "execution_count": null,
      "outputs": [
        {
          "output_type": "execute_result",
          "data": {
            "text/plain": [
              "10.0125"
            ]
          },
          "metadata": {},
          "execution_count": 3
        }
      ]
    },
    {
      "cell_type": "code",
      "source": [
        "t = (1,2,3)\n",
        "len(t)"
      ],
      "metadata": {
        "colab": {
          "base_uri": "https://localhost:8080/"
        },
        "id": "4N6ffZRMyOpw",
        "outputId": "6b820fdb-167c-4660-ab1c-d155000f8fdc"
      },
      "execution_count": null,
      "outputs": [
        {
          "output_type": "execute_result",
          "data": {
            "text/plain": [
              "3"
            ]
          },
          "metadata": {},
          "execution_count": 4
        }
      ]
    },
    {
      "cell_type": "code",
      "source": [
        "t[1]"
      ],
      "metadata": {
        "colab": {
          "base_uri": "https://localhost:8080/"
        },
        "id": "nlMHpkPWymO3",
        "outputId": "f43ec1d7-ed3f-4ed4-da18-aa110281b79a"
      },
      "execution_count": null,
      "outputs": [
        {
          "output_type": "execute_result",
          "data": {
            "text/plain": [
              "2"
            ]
          },
          "metadata": {},
          "execution_count": 5
        }
      ]
    },
    {
      "cell_type": "code",
      "source": [
        "t[1:3]"
      ],
      "metadata": {
        "colab": {
          "base_uri": "https://localhost:8080/"
        },
        "id": "Fdpg24-Gyofy",
        "outputId": "0f26e62d-52a3-4c01-bc9d-462a2c221f72"
      },
      "execution_count": null,
      "outputs": [
        {
          "output_type": "execute_result",
          "data": {
            "text/plain": [
              "(2, 3)"
            ]
          },
          "metadata": {},
          "execution_count": 6
        }
      ]
    },
    {
      "cell_type": "code",
      "source": [
        "(1,2) + ('a','b')"
      ],
      "metadata": {
        "colab": {
          "base_uri": "https://localhost:8080/"
        },
        "id": "Y1yqHb8Iys3S",
        "outputId": "77e36868-6ef6-4c32-d297-4b3245b0f2e4"
      },
      "execution_count": null,
      "outputs": [
        {
          "output_type": "execute_result",
          "data": {
            "text/plain": [
              "(1, 2, 'a', 'b')"
            ]
          },
          "metadata": {},
          "execution_count": 7
        }
      ]
    },
    {
      "cell_type": "code",
      "source": [
        "2 * (1,2)"
      ],
      "metadata": {
        "colab": {
          "base_uri": "https://localhost:8080/"
        },
        "id": "TNIvqYJsyzPv",
        "outputId": "878da5f2-45f0-4a57-b04f-18fe5865dc0e"
      },
      "execution_count": null,
      "outputs": [
        {
          "output_type": "execute_result",
          "data": {
            "text/plain": [
              "(1, 2, 1, 2)"
            ]
          },
          "metadata": {},
          "execution_count": 8
        }
      ]
    },
    {
      "cell_type": "code",
      "source": [
        "t[1] = 3"
      ],
      "metadata": {
        "colab": {
          "base_uri": "https://localhost:8080/",
          "height": 141
        },
        "id": "9o05Pn5Sy1rR",
        "outputId": "0361ca74-45d0-4db3-ac58-de5f8243feea"
      },
      "execution_count": null,
      "outputs": [
        {
          "output_type": "error",
          "ename": "TypeError",
          "evalue": "'tuple' object does not support item assignment",
          "traceback": [
            "\u001b[0;31m---------------------------------------------------------------------------\u001b[0m",
            "\u001b[0;31mTypeError\u001b[0m                                 Traceback (most recent call last)",
            "\u001b[0;32m/tmp/ipython-input-2079348087.py\u001b[0m in \u001b[0;36m<cell line: 0>\u001b[0;34m()\u001b[0m\n\u001b[0;32m----> 1\u001b[0;31m \u001b[0mt\u001b[0m\u001b[0;34m[\u001b[0m\u001b[0;36m1\u001b[0m\u001b[0;34m]\u001b[0m \u001b[0;34m=\u001b[0m \u001b[0;36m3\u001b[0m\u001b[0;34m\u001b[0m\u001b[0;34m\u001b[0m\u001b[0m\n\u001b[0m",
            "\u001b[0;31mTypeError\u001b[0m: 'tuple' object does not support item assignment"
          ]
        }
      ]
    },
    {
      "cell_type": "code",
      "source": [
        "type([1])"
      ],
      "metadata": {
        "colab": {
          "base_uri": "https://localhost:8080/"
        },
        "id": "YMtCBXwe0WJO",
        "outputId": "5ea8e66a-2629-4571-e9a4-37c25453bfca"
      },
      "execution_count": null,
      "outputs": [
        {
          "output_type": "execute_result",
          "data": {
            "text/plain": [
              "list"
            ]
          },
          "metadata": {},
          "execution_count": 11
        }
      ]
    },
    {
      "cell_type": "code",
      "source": [
        "type((1))"
      ],
      "metadata": {
        "colab": {
          "base_uri": "https://localhost:8080/"
        },
        "id": "nMnmu2360akQ",
        "outputId": "805936c3-55c8-45ed-92d1-8f0c5e40fbab"
      },
      "execution_count": null,
      "outputs": [
        {
          "output_type": "execute_result",
          "data": {
            "text/plain": [
              "int"
            ]
          },
          "metadata": {},
          "execution_count": 12
        }
      ]
    },
    {
      "cell_type": "code",
      "source": [
        "[1] == [1,]"
      ],
      "metadata": {
        "colab": {
          "base_uri": "https://localhost:8080/"
        },
        "id": "Xv3pOQhi0cl4",
        "outputId": "2565d714-4c87-4e07-ac4c-3fe23117797f"
      },
      "execution_count": null,
      "outputs": [
        {
          "output_type": "execute_result",
          "data": {
            "text/plain": [
              "True"
            ]
          },
          "metadata": {},
          "execution_count": 13
        }
      ]
    },
    {
      "cell_type": "code",
      "source": [
        "grades = {\n",
        "    'Bob' : 95,\n",
        "    'Alice': 98,\n",
        "    'Eve': 92,\n",
        "}\n",
        "\n",
        "len(grades)"
      ],
      "metadata": {
        "colab": {
          "base_uri": "https://localhost:8080/"
        },
        "id": "_3Fh2iuJ2oBo",
        "outputId": "9dca59ff-e9c2-4dbd-c26f-3d86eb519acb"
      },
      "execution_count": null,
      "outputs": [
        {
          "output_type": "execute_result",
          "data": {
            "text/plain": [
              "3"
            ]
          },
          "metadata": {},
          "execution_count": 15
        }
      ]
    },
    {
      "cell_type": "code",
      "source": [
        "grades['Alice']"
      ],
      "metadata": {
        "colab": {
          "base_uri": "https://localhost:8080/"
        },
        "id": "oIxmd6-W25Gp",
        "outputId": "3c318a09-8f33-42a9-ff23-5ea662a0afac"
      },
      "execution_count": null,
      "outputs": [
        {
          "output_type": "execute_result",
          "data": {
            "text/plain": [
              "98"
            ]
          },
          "metadata": {},
          "execution_count": 17
        }
      ]
    },
    {
      "cell_type": "code",
      "source": [
        "grades['Eve'] = 96\n",
        "print(grades)"
      ],
      "metadata": {
        "colab": {
          "base_uri": "https://localhost:8080/"
        },
        "id": "mp5oQZnf3DWc",
        "outputId": "75910673-adf7-4304-c0f8-bdb8bf8b7344"
      },
      "execution_count": null,
      "outputs": [
        {
          "output_type": "stream",
          "name": "stdout",
          "text": [
            "{'Bob': 95, 'Alice': 98, 'Eve': 96}\n"
          ]
        }
      ]
    },
    {
      "cell_type": "code",
      "source": [
        "grades['Steve'] = 91\n",
        "print(grades)"
      ],
      "metadata": {
        "colab": {
          "base_uri": "https://localhost:8080/"
        },
        "id": "CvqZlZdR3h1L",
        "outputId": "7d39e4c0-2140-4db7-9325-22415a48dc6b"
      },
      "execution_count": null,
      "outputs": [
        {
          "output_type": "stream",
          "name": "stdout",
          "text": [
            "{'Bob': 95, 'Alice': 98, 'Eve': 96, 'Steve': 91}\n"
          ]
        }
      ]
    },
    {
      "cell_type": "code",
      "source": [
        "grades.keys()"
      ],
      "metadata": {
        "colab": {
          "base_uri": "https://localhost:8080/"
        },
        "id": "grGjl6Jj4Y8T",
        "outputId": "76ae7b42-16a8-4a77-b7bd-b04675af7ca2"
      },
      "execution_count": null,
      "outputs": [
        {
          "output_type": "execute_result",
          "data": {
            "text/plain": [
              "dict_keys(['Bob', 'Alice', 'Eve', 'Steve'])"
            ]
          },
          "metadata": {},
          "execution_count": 20
        }
      ]
    },
    {
      "cell_type": "code",
      "source": [
        "grades.values()"
      ],
      "metadata": {
        "colab": {
          "base_uri": "https://localhost:8080/"
        },
        "id": "CWLcAxt84bXT",
        "outputId": "c3fd8eaf-2cb8-41f5-fdbb-77e6fb395f87"
      },
      "execution_count": null,
      "outputs": [
        {
          "output_type": "execute_result",
          "data": {
            "text/plain": [
              "dict_values([95, 98, 96, 91])"
            ]
          },
          "metadata": {},
          "execution_count": 21
        }
      ]
    },
    {
      "cell_type": "code",
      "source": [
        "grades.items()"
      ],
      "metadata": {
        "colab": {
          "base_uri": "https://localhost:8080/"
        },
        "id": "Tc9k9YY54dZ4",
        "outputId": "53cd3649-0287-48aa-966b-ddf359cb6915"
      },
      "execution_count": null,
      "outputs": [
        {
          "output_type": "execute_result",
          "data": {
            "text/plain": [
              "dict_items([('Bob', 95), ('Alice', 98), ('Eve', 96), ('Steve', 91)])"
            ]
          },
          "metadata": {},
          "execution_count": 22
        }
      ]
    },
    {
      "cell_type": "code",
      "source": [
        "for key in grades.keys():\n",
        "  print(grades[key])"
      ],
      "metadata": {
        "colab": {
          "base_uri": "https://localhost:8080/"
        },
        "id": "E2R3VStK4wMU",
        "outputId": "0c9aae9d-9b1e-4c60-fc88-945cd5fcebad"
      },
      "execution_count": null,
      "outputs": [
        {
          "output_type": "stream",
          "name": "stdout",
          "text": [
            "95\n",
            "98\n",
            "96\n",
            "91\n"
          ]
        }
      ]
    },
    {
      "cell_type": "code",
      "source": [
        "sum(grades.values())/ len(grades.values())"
      ],
      "metadata": {
        "colab": {
          "base_uri": "https://localhost:8080/"
        },
        "id": "xvbrq1iA6aZw",
        "outputId": "6e981544-b27e-4252-c9f3-f85df237d480"
      },
      "execution_count": null,
      "outputs": [
        {
          "output_type": "execute_result",
          "data": {
            "text/plain": [
              "95.0"
            ]
          },
          "metadata": {},
          "execution_count": 24
        }
      ]
    },
    {
      "cell_type": "code",
      "source": [
        "('Dave' in grades.keys()) == ('Dave' in grades)"
      ],
      "metadata": {
        "colab": {
          "base_uri": "https://localhost:8080/"
        },
        "id": "eCbY9Zkx6gSr",
        "outputId": "7e987e3a-4a47-46d3-c440-8286c2dd95af"
      },
      "execution_count": null,
      "outputs": [
        {
          "output_type": "execute_result",
          "data": {
            "text/plain": [
              "True"
            ]
          },
          "metadata": {},
          "execution_count": 26
        }
      ]
    },
    {
      "cell_type": "code",
      "source": [
        "for key, value in grades.items():\n",
        "  print(key, value)"
      ],
      "metadata": {
        "colab": {
          "base_uri": "https://localhost:8080/"
        },
        "id": "ZQgmA-zK7H2f",
        "outputId": "28b29840-51ee-495d-d6bf-562ca7a9b139"
      },
      "execution_count": null,
      "outputs": [
        {
          "output_type": "stream",
          "name": "stdout",
          "text": [
            "Bob 95\n",
            "Alice 98\n",
            "Eve 96\n",
            "Steve 91\n"
          ]
        }
      ]
    },
    {
      "cell_type": "code",
      "source": [
        "clients = {\n",
        "    'johndoe@aol.com' :{\n",
        "        'First': 'John',\n",
        "        'Last': 'Doe',\n",
        "        'Phone': '+1 (555) 123-4567',\n",
        "    }\n",
        "}\n",
        "\n",
        "print(clients)"
      ],
      "metadata": {
        "colab": {
          "base_uri": "https://localhost:8080/"
        },
        "id": "_wZ2Nya98Flh",
        "outputId": "589832d9-ce0c-413f-f0a9-2a45ba7c8fe5"
      },
      "execution_count": null,
      "outputs": [
        {
          "output_type": "stream",
          "name": "stdout",
          "text": [
            "{'johndoe@aol.com': {'First': 'John', 'Last': 'Doe', 'Phone': '+1 (555) 123-4567'}}\n"
          ]
        }
      ]
    },
    {
      "cell_type": "markdown",
      "source": [
        "Using python in colab: The classic hand game. Write a program that pays the fame against the computer for as long as the user wants. Start by allowing the user to choose whether they want to play using the appropriate input. As long as the use chooses 'yes', the game continues. Add realism by allowing the ocmputer to randomly choose its action. You can do thisusing the random library: import random, computer = random.choice(['rock', 'paper', 'scissors']"
      ],
      "metadata": {
        "id": "byvpPJJT9_uu"
      }
    },
    {
      "cell_type": "code",
      "source": [
        "import random\n",
        "\n",
        "print(\"Welcome to Rock-Paper-Scissors!\")\n",
        "\n",
        "# Main game loop\n",
        "while True:\n",
        "    play = input(\"Do you want to play? (yes/no): \").strip().lower()\n",
        "    if play != \"yes\":\n",
        "        print(\"Thanks for playing! Goodbye.\")\n",
        "        break\n",
        "\n",
        "    # Get user's choice\n",
        "    user = input(\"Choose rock, paper, or scissors: \").strip().lower()\n",
        "    if user not in [\"rock\", \"paper\", \"scissors\"]:\n",
        "        print(\"Invalid choice. Please try again.\")\n",
        "        continue\n",
        "\n",
        "    # Computer's random choice\n",
        "    computer = random.choice([\"rock\", \"paper\", \"scissors\"])\n",
        "    print(f\"Computer chose: {computer}\")\n",
        "\n",
        "    # Decide winner\n",
        "    if user == computer:\n",
        "        print(\"It's a tie!\")\n",
        "    elif (user == \"rock\" and computer == \"scissors\") or \\\n",
        "         (user == \"scissors\" and computer == \"paper\") or \\\n",
        "         (user == \"paper\" and computer == \"rock\"):\n",
        "        print(\"You win!\")\n",
        "    else:\n",
        "        print(\"You lose!\")\n"
      ],
      "metadata": {
        "colab": {
          "base_uri": "https://localhost:8080/"
        },
        "id": "o0KG7dWe9-vb",
        "outputId": "43a0ad74-840a-40af-c183-aea1354dad01"
      },
      "execution_count": null,
      "outputs": [
        {
          "output_type": "stream",
          "name": "stdout",
          "text": [
            "Welcome to Rock-Paper-Scissors!\n",
            "Do you want to play? (yes/no): yes\n",
            "Choose rock, paper, or scissors: paper\n",
            "Computer chose: paper\n",
            "It's a tie!\n",
            "Do you want to play? (yes/no): yes\n",
            "Choose rock, paper, or scissors: scissors\n",
            "Computer chose: rock\n",
            "You lose!\n",
            "Do you want to play? (yes/no): yes\n",
            "Choose rock, paper, or scissors: scissors\n",
            "Computer chose: paper\n",
            "You win!\n",
            "Do you want to play? (yes/no): no\n",
            "Thanks for playing! Goodbye.\n"
          ]
        }
      ]
    },
    {
      "cell_type": "markdown",
      "source": [
        "```python\n",
        "user_choice == 'rock' and pc_choice"
      ],
      "metadata": {
        "id": "ODD5YYeJGUbV"
      }
    },
    {
      "cell_type": "code",
      "source": [
        "import random\n",
        "\n",
        "while True:\n",
        "\n",
        "  play = input('Do you want to play a game (yes/no)? ').strip().lower()\n",
        "\n",
        "  if play == 'no': # == play != 'yes'\n",
        "    break\n",
        "\n",
        "  # Rock, paper, scissors starts here...\n",
        "  user_choice = input('Choose between rock/paper/scissors: ')\n",
        "  pc_choice = random.choice(['rock','paper', 'scissors'])\n",
        "  print(f'User: {user_choice}, Computer: {pc_choice}')\n",
        "\n",
        "  if user_choice == pc_choice:\n",
        "    print('Tie')\n",
        "  elif (\n",
        "      (user_choice == 'rock' and pc_choice == 'scissors') or\n",
        "      (user_choice =='scissors' and pc_choice == 'paper') or\n",
        "      (user_choice =='paper' and pc_choice == 'rock')\n",
        "  ):\n",
        "    print('User Wins!')\n",
        "  else:\n",
        "    print('Computer wins')"
      ],
      "metadata": {
        "id": "oaVPNvUPAPBG",
        "colab": {
          "base_uri": "https://localhost:8080/"
        },
        "outputId": "fd59e3a8-33a0-4c10-f4be-4c19b91b6490"
      },
      "execution_count": null,
      "outputs": [
        {
          "name": "stdout",
          "output_type": "stream",
          "text": [
            "Do you want to play a game (yes/no)? yes\n",
            "Choose between rock/paper/scissors: rock\n",
            "User: rock, Computer: paper\n",
            "Computer wins\n",
            "Do you want to play a game (yes/no)? yes\n",
            "Choose between rock/paper/scissors: paper\n",
            "User: paper, Computer: scissors\n",
            "Computer wins\n",
            "Do you want to play a game (yes/no)? no\n"
          ]
        }
      ]
    },
    {
      "cell_type": "code",
      "source": [
        "s1 = set([1,2,2,3,4,5,5,6,7,8])\n",
        "print(s1)"
      ],
      "metadata": {
        "colab": {
          "base_uri": "https://localhost:8080/"
        },
        "id": "gJucJdOML-8m",
        "outputId": "b0e5929d-ceff-487d-b825-ee869fa11a4b"
      },
      "execution_count": null,
      "outputs": [
        {
          "output_type": "stream",
          "name": "stdout",
          "text": [
            "{1, 2, 3, 4, 5, 6, 7, 8}\n"
          ]
        }
      ]
    },
    {
      "cell_type": "code",
      "source": [
        "len(s1)"
      ],
      "metadata": {
        "colab": {
          "base_uri": "https://localhost:8080/"
        },
        "id": "CoNMht55MLuv",
        "outputId": "41feab1e-d3ea-44e2-d371-b9ab6fe69b55"
      },
      "execution_count": null,
      "outputs": [
        {
          "output_type": "execute_result",
          "data": {
            "text/plain": [
              "8"
            ]
          },
          "metadata": {},
          "execution_count": 3
        }
      ]
    },
    {
      "cell_type": "code",
      "source": [
        "s2 = {5,2,7,8,9,11}\n",
        "print(s2)"
      ],
      "metadata": {
        "colab": {
          "base_uri": "https://localhost:8080/"
        },
        "id": "9gn3c9L-MNs-",
        "outputId": "ff20f3f7-e272-4c17-b4d2-654c1ee390b3"
      },
      "execution_count": null,
      "outputs": [
        {
          "output_type": "stream",
          "name": "stdout",
          "text": [
            "{2, 5, 7, 8, 9, 11}\n"
          ]
        }
      ]
    },
    {
      "cell_type": "code",
      "source": [
        "s1.intersection(s2)"
      ],
      "metadata": {
        "colab": {
          "base_uri": "https://localhost:8080/"
        },
        "id": "XLSP_irEMWBl",
        "outputId": "1011bd66-d723-459f-8aa4-de86c50ffab5"
      },
      "execution_count": null,
      "outputs": [
        {
          "output_type": "execute_result",
          "data": {
            "text/plain": [
              "{2, 5, 7, 8}"
            ]
          },
          "metadata": {},
          "execution_count": 9
        }
      ]
    },
    {
      "cell_type": "code",
      "source": [
        "s2.intersection(s1)"
      ],
      "metadata": {
        "colab": {
          "base_uri": "https://localhost:8080/"
        },
        "id": "F5YB55nhMkEf",
        "outputId": "3feb44f7-08ba-4a5a-80e9-620b76440444"
      },
      "execution_count": null,
      "outputs": [
        {
          "output_type": "execute_result",
          "data": {
            "text/plain": [
              "{2, 5, 7, 8}"
            ]
          },
          "metadata": {},
          "execution_count": 10
        }
      ]
    },
    {
      "cell_type": "code",
      "source": [
        "s1 & s2"
      ],
      "metadata": {
        "colab": {
          "base_uri": "https://localhost:8080/"
        },
        "id": "GrZ-aDQLMpgl",
        "outputId": "cb0bc3ef-2e42-4ed3-d740-20fa0465a02f"
      },
      "execution_count": null,
      "outputs": [
        {
          "output_type": "execute_result",
          "data": {
            "text/plain": [
              "{2, 5, 7, 8}"
            ]
          },
          "metadata": {},
          "execution_count": 11
        }
      ]
    },
    {
      "cell_type": "code",
      "source": [
        "s1.union(s2)"
      ],
      "metadata": {
        "colab": {
          "base_uri": "https://localhost:8080/"
        },
        "id": "8ZO6KdfQMw3Z",
        "outputId": "a0161022-fb9f-455d-9622-22e66d234da6"
      },
      "execution_count": null,
      "outputs": [
        {
          "output_type": "execute_result",
          "data": {
            "text/plain": [
              "{1, 2, 3, 4, 5, 6, 7, 8, 9, 11}"
            ]
          },
          "metadata": {},
          "execution_count": 12
        }
      ]
    },
    {
      "cell_type": "code",
      "source": [
        "s1.difference(s2)"
      ],
      "metadata": {
        "colab": {
          "base_uri": "https://localhost:8080/"
        },
        "id": "EaRauqX_M3Qg",
        "outputId": "289c9e9d-7a2e-41a9-8923-2f97ae0d47d5"
      },
      "execution_count": null,
      "outputs": [
        {
          "output_type": "execute_result",
          "data": {
            "text/plain": [
              "{1, 3, 4, 6}"
            ]
          },
          "metadata": {},
          "execution_count": 13
        }
      ]
    },
    {
      "cell_type": "code",
      "source": [
        "s2.difference(s1)"
      ],
      "metadata": {
        "colab": {
          "base_uri": "https://localhost:8080/"
        },
        "id": "eo6NOqmGNguu",
        "outputId": "1384c2c8-d52e-41b6-c141-8c9429e718c8"
      },
      "execution_count": null,
      "outputs": [
        {
          "output_type": "execute_result",
          "data": {
            "text/plain": [
              "{9, 11}"
            ]
          },
          "metadata": {},
          "execution_count": 14
        }
      ]
    },
    {
      "cell_type": "code",
      "source": [
        "s1 - s2"
      ],
      "metadata": {
        "colab": {
          "base_uri": "https://localhost:8080/"
        },
        "id": "nca6C7VWNigW",
        "outputId": "64fb3a3e-7cf9-4115-bc5a-24154740eb1c"
      },
      "execution_count": null,
      "outputs": [
        {
          "output_type": "execute_result",
          "data": {
            "text/plain": [
              "{1, 3, 4, 6}"
            ]
          },
          "metadata": {},
          "execution_count": 15
        }
      ]
    },
    {
      "cell_type": "code",
      "source": [
        "s1.symetric_difference(s2)"
      ],
      "metadata": {
        "colab": {
          "base_uri": "https://localhost:8080/",
          "height": 141
        },
        "id": "IlBGJ0_kNlcJ",
        "outputId": "78a1d2ff-2c2d-4e48-ce54-1f0f1ad56898"
      },
      "execution_count": null,
      "outputs": [
        {
          "output_type": "error",
          "ename": "AttributeError",
          "evalue": "'set' object has no attribute 'symetric_difference'",
          "traceback": [
            "\u001b[0;31m---------------------------------------------------------------------------\u001b[0m",
            "\u001b[0;31mAttributeError\u001b[0m                            Traceback (most recent call last)",
            "\u001b[0;32m/tmp/ipython-input-1380987369.py\u001b[0m in \u001b[0;36m<cell line: 0>\u001b[0;34m()\u001b[0m\n\u001b[0;32m----> 1\u001b[0;31m \u001b[0ms1\u001b[0m\u001b[0;34m.\u001b[0m\u001b[0msymetric_difference\u001b[0m\u001b[0;34m(\u001b[0m\u001b[0ms2\u001b[0m\u001b[0;34m)\u001b[0m\u001b[0;34m\u001b[0m\u001b[0;34m\u001b[0m\u001b[0m\n\u001b[0m",
            "\u001b[0;31mAttributeError\u001b[0m: 'set' object has no attribute 'symetric_difference'"
          ]
        }
      ]
    },
    {
      "cell_type": "markdown",
      "source": [
        "Product prices (dictionaries)\n",
        "A company sells two products, their prices are:\n",
        "P-01 $9.95\n",
        "P-02 $10.50\n",
        "Write a program that sets up a dictionary with product IDs as keys and prices as their values. Prompt the user to enter a product ID, then display that product's price\n",
        "\n",
        "sample run:\n",
        "Enter product ID: P-01\n",
        "P-01 9.95\n",
        "For your program with a dictionary of product IDs and their prices, refine it so that if the user enters a product ID not in the dictionary it display a message\n",
        "Sample run:\n",
        "Enter product ID: X-01\n",
        "X-01 not found"
      ],
      "metadata": {
        "id": "kN0D7YcKO5hF"
      }
    },
    {
      "cell_type": "code",
      "source": [
        "products = {\n",
        "    'P-01': 9.95,\n",
        "    'P-02': 10.50\n",
        "}\n",
        "\n",
        "id = input('Enter product ID: ')\n",
        "\n",
        "if id in products:\n",
        "  print(f'ID: {id}, Price: {products[id]}$')\n",
        "else:\n",
        "  print(f'{id} not found')\n"
      ],
      "metadata": {
        "colab": {
          "base_uri": "https://localhost:8080/"
        },
        "id": "ItPMHR4BPkHE",
        "outputId": "0375485e-1b52-458e-aabf-9242abd832e3"
      },
      "execution_count": null,
      "outputs": [
        {
          "output_type": "stream",
          "name": "stdout",
          "text": [
            "Enter product ID: P-02\n",
            "ID: P-02, Price: 10.5$\n"
          ]
        }
      ]
    }
  ]
}